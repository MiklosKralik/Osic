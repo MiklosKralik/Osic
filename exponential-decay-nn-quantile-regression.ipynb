{
 "cells": [
  {
   "cell_type": "code",
   "execution_count": 1,
   "metadata": {
    "_cell_guid": "79c7e3d0-c299-4dcb-8224-4455121ee9b0",
    "_uuid": "d629ff2d2480ee46fbb7e2d37f6b5fab8052498a",
    "execution": {
     "iopub.execute_input": "2020-11-09T14:00:47.210373Z",
     "iopub.status.busy": "2020-11-09T14:00:47.209478Z",
     "iopub.status.idle": "2020-11-09T14:00:53.310723Z",
     "shell.execute_reply": "2020-11-09T14:00:53.309446Z"
    },
    "papermill": {
     "duration": 6.144904,
     "end_time": "2020-11-09T14:00:53.310859",
     "exception": false,
     "start_time": "2020-11-09T14:00:47.165955",
     "status": "completed"
    },
    "tags": []
   },
   "outputs": [],
   "source": [
    "import os\n",
    "import cv2\n",
    "\n",
    "import pydicom\n",
    "import pandas as pd\n",
    "import numpy as np \n",
    "import tensorflow as tf \n",
    "import matplotlib.pyplot as plt\n",
    "import scipy\n",
    "from tqdm.notebook import tqdm "
   ]
  },
  {
   "cell_type": "code",
   "execution_count": 2,
   "metadata": {
    "execution": {
     "iopub.execute_input": "2020-11-09T14:00:53.383490Z",
     "iopub.status.busy": "2020-11-09T14:00:53.382791Z",
     "iopub.status.idle": "2020-11-09T14:00:53.411963Z",
     "shell.execute_reply": "2020-11-09T14:00:53.412406Z"
    },
    "papermill": {
     "duration": 0.068324,
     "end_time": "2020-11-09T14:00:53.412582",
     "exception": false,
     "start_time": "2020-11-09T14:00:53.344258",
     "status": "completed"
    },
    "tags": []
   },
   "outputs": [
    {
     "data": {
      "text/html": [
       "<div>\n",
       "<style scoped>\n",
       "    .dataframe tbody tr th:only-of-type {\n",
       "        vertical-align: middle;\n",
       "    }\n",
       "\n",
       "    .dataframe tbody tr th {\n",
       "        vertical-align: top;\n",
       "    }\n",
       "\n",
       "    .dataframe thead th {\n",
       "        text-align: right;\n",
       "    }\n",
       "</style>\n",
       "<table border=\"1\" class=\"dataframe\">\n",
       "  <thead>\n",
       "    <tr style=\"text-align: right;\">\n",
       "      <th></th>\n",
       "      <th>Patient</th>\n",
       "      <th>Weeks</th>\n",
       "      <th>FVC</th>\n",
       "      <th>Percent</th>\n",
       "      <th>Age</th>\n",
       "      <th>Sex</th>\n",
       "      <th>SmokingStatus</th>\n",
       "    </tr>\n",
       "  </thead>\n",
       "  <tbody>\n",
       "    <tr>\n",
       "      <th>0</th>\n",
       "      <td>ID00007637202177411956430</td>\n",
       "      <td>-4</td>\n",
       "      <td>2315</td>\n",
       "      <td>58.253649</td>\n",
       "      <td>79</td>\n",
       "      <td>Male</td>\n",
       "      <td>Ex-smoker</td>\n",
       "    </tr>\n",
       "    <tr>\n",
       "      <th>1</th>\n",
       "      <td>ID00007637202177411956430</td>\n",
       "      <td>5</td>\n",
       "      <td>2214</td>\n",
       "      <td>55.712129</td>\n",
       "      <td>79</td>\n",
       "      <td>Male</td>\n",
       "      <td>Ex-smoker</td>\n",
       "    </tr>\n",
       "    <tr>\n",
       "      <th>2</th>\n",
       "      <td>ID00007637202177411956430</td>\n",
       "      <td>7</td>\n",
       "      <td>2061</td>\n",
       "      <td>51.862104</td>\n",
       "      <td>79</td>\n",
       "      <td>Male</td>\n",
       "      <td>Ex-smoker</td>\n",
       "    </tr>\n",
       "    <tr>\n",
       "      <th>3</th>\n",
       "      <td>ID00007637202177411956430</td>\n",
       "      <td>9</td>\n",
       "      <td>2144</td>\n",
       "      <td>53.950679</td>\n",
       "      <td>79</td>\n",
       "      <td>Male</td>\n",
       "      <td>Ex-smoker</td>\n",
       "    </tr>\n",
       "    <tr>\n",
       "      <th>4</th>\n",
       "      <td>ID00007637202177411956430</td>\n",
       "      <td>11</td>\n",
       "      <td>2069</td>\n",
       "      <td>52.063412</td>\n",
       "      <td>79</td>\n",
       "      <td>Male</td>\n",
       "      <td>Ex-smoker</td>\n",
       "    </tr>\n",
       "  </tbody>\n",
       "</table>\n",
       "</div>"
      ],
      "text/plain": [
       "                     Patient  Weeks   FVC    Percent  Age   Sex SmokingStatus\n",
       "0  ID00007637202177411956430     -4  2315  58.253649   79  Male     Ex-smoker\n",
       "1  ID00007637202177411956430      5  2214  55.712129   79  Male     Ex-smoker\n",
       "2  ID00007637202177411956430      7  2061  51.862104   79  Male     Ex-smoker\n",
       "3  ID00007637202177411956430      9  2144  53.950679   79  Male     Ex-smoker\n",
       "4  ID00007637202177411956430     11  2069  52.063412   79  Male     Ex-smoker"
      ]
     },
     "execution_count": 2,
     "metadata": {},
     "output_type": "execute_result"
    }
   ],
   "source": [
    "train = pd.read_csv('../input/osic-pulmonary-fibrosis-progression/train.csv') \n",
    "train.head()"
   ]
  },
  {
   "cell_type": "code",
   "execution_count": 3,
   "metadata": {
    "execution": {
     "iopub.execute_input": "2020-11-09T14:00:53.497672Z",
     "iopub.status.busy": "2020-11-09T14:00:53.496891Z",
     "iopub.status.idle": "2020-11-09T14:00:53.500913Z",
     "shell.execute_reply": "2020-11-09T14:00:53.501604Z"
    },
    "papermill": {
     "duration": 0.053143,
     "end_time": "2020-11-09T14:00:53.501760",
     "exception": false,
     "start_time": "2020-11-09T14:00:53.448617",
     "status": "completed"
    },
    "tags": []
   },
   "outputs": [
    {
     "name": "stdout",
     "output_type": "stream",
     "text": [
      "<class 'pandas.core.frame.DataFrame'>\n",
      "RangeIndex: 1549 entries, 0 to 1548\n",
      "Data columns (total 7 columns):\n",
      " #   Column         Non-Null Count  Dtype  \n",
      "---  ------         --------------  -----  \n",
      " 0   Patient        1549 non-null   object \n",
      " 1   Weeks          1549 non-null   int64  \n",
      " 2   FVC            1549 non-null   int64  \n",
      " 3   Percent        1549 non-null   float64\n",
      " 4   Age            1549 non-null   int64  \n",
      " 5   Sex            1549 non-null   object \n",
      " 6   SmokingStatus  1549 non-null   object \n",
      "dtypes: float64(1), int64(3), object(3)\n",
      "memory usage: 84.8+ KB\n"
     ]
    }
   ],
   "source": [
    "train.info()"
   ]
  },
  {
   "cell_type": "code",
   "execution_count": 4,
   "metadata": {
    "execution": {
     "iopub.execute_input": "2020-11-09T14:00:53.577270Z",
     "iopub.status.busy": "2020-11-09T14:00:53.576495Z",
     "iopub.status.idle": "2020-11-09T14:00:54.521219Z",
     "shell.execute_reply": "2020-11-09T14:00:54.521843Z"
    },
    "papermill": {
     "duration": 0.985371,
     "end_time": "2020-11-09T14:00:54.521984",
     "exception": false,
     "start_time": "2020-11-09T14:00:53.536613",
     "status": "completed"
    },
    "tags": []
   },
   "outputs": [
    {
     "name": "stdout",
     "output_type": "stream",
     "text": [
      "                            OLS Regression Results                            \n",
      "==============================================================================\n",
      "Dep. Variable:                    FVC   R-squared:                       0.836\n",
      "Model:                            OLS   Adj. R-squared:                  0.835\n",
      "Method:                 Least Squares   F-statistic:                     1309.\n",
      "Date:                Mon, 09 Nov 2020   Prob (F-statistic):               0.00\n",
      "Time:                        14:00:54   Log-Likelihood:                -11214.\n",
      "No. Observations:                1549   AIC:                         2.244e+04\n",
      "Df Residuals:                    1542   BIC:                         2.248e+04\n",
      "Df Model:                           6                                         \n",
      "Covariance Type:            nonrobust                                         \n",
      "=================================================================================================\n",
      "                                    coef    std err          t      P>|t|      [0.025      0.975]\n",
      "-------------------------------------------------------------------------------------------------\n",
      "Intercept                       562.1582     98.697      5.696      0.000     368.563     755.754\n",
      "Sex[T.Male]                    1232.8837     23.238     53.055      0.000    1187.303    1278.465\n",
      "SmokingStatus[T.Ex-smoker]      176.0339     40.118      4.388      0.000      97.343     254.725\n",
      "SmokingStatus[T.Never smoked]   172.3436     42.480      4.057      0.000      89.019     255.669\n",
      "Weeks                            -0.0679      0.371     -0.183      0.855      -0.796       0.660\n",
      "Percent                          32.5565      0.453     71.816      0.000      31.667      33.446\n",
      "Age                             -22.8933      1.232    -18.582      0.000     -25.310     -20.477\n",
      "==============================================================================\n",
      "Omnibus:                        9.830   Durbin-Watson:                   0.230\n",
      "Prob(Omnibus):                  0.007   Jarque-Bera (JB):               12.865\n",
      "Skew:                          -0.062   Prob(JB):                      0.00161\n",
      "Kurtosis:                       3.429   Cond. No.                     1.30e+03\n",
      "==============================================================================\n",
      "\n",
      "Warnings:\n",
      "[1] Standard Errors assume that the covariance matrix of the errors is correctly specified.\n",
      "[2] The condition number is large, 1.3e+03. This might indicate that there are\n",
      "strong multicollinearity or other numerical problems.\n"
     ]
    }
   ],
   "source": [
    "from statsmodels.formula.api import ols\n",
    "\n",
    "#fit multiple linear regression model\n",
    "model_stats = ols('FVC ~  Weeks + Percent + Age + Sex + SmokingStatus',\n",
    "            data=train).fit()\n",
    "\n",
    "#view model summary\n",
    "print(model_stats.summary())"
   ]
  },
  {
   "cell_type": "code",
   "execution_count": 5,
   "metadata": {
    "execution": {
     "iopub.execute_input": "2020-11-09T14:00:54.604066Z",
     "iopub.status.busy": "2020-11-09T14:00:54.603241Z",
     "iopub.status.idle": "2020-11-09T14:00:55.048045Z",
     "shell.execute_reply": "2020-11-09T14:00:55.047533Z"
    },
    "papermill": {
     "duration": 0.4862,
     "end_time": "2020-11-09T14:00:55.048146",
     "exception": false,
     "start_time": "2020-11-09T14:00:54.561946",
     "status": "completed"
    },
    "tags": []
   },
   "outputs": [
    {
     "data": {
      "image/png": "[encoded data removed]",
      "text/plain": [
       "<Figure size 432x288 with 1 Axes>"
      ]
     },
     "execution_count": 5,
     "metadata": {},
     "output_type": "execute_result"
    },
    {
     "data": {
      "image/png": "[encoded data removed]",
      "text/plain": [
       "<Figure size 432x288 with 1 Axes>"
      ]
     },
     "metadata": {
      "needs_background": "light"
     },
     "output_type": "display_data"
    }
   ],
   "source": [
    "# observations are not independent\n",
    "from statsmodels.graphics.tsaplots import plot_acf\n",
    "plot_acf(model_stats.resid)"
   ]
  },
  {
   "cell_type": "code",
   "execution_count": 6,
   "metadata": {
    "execution": {
     "iopub.execute_input": "2020-11-09T14:00:55.132604Z",
     "iopub.status.busy": "2020-11-09T14:00:55.130853Z",
     "iopub.status.idle": "2020-11-09T14:00:55.133289Z",
     "shell.execute_reply": "2020-11-09T14:00:55.133766Z"
    },
    "papermill": {
     "duration": 0.04651,
     "end_time": "2020-11-09T14:00:55.133885",
     "exception": false,
     "start_time": "2020-11-09T14:00:55.087375",
     "status": "completed"
    },
    "tags": []
   },
   "outputs": [],
   "source": [
    "train_org = train.copy()"
   ]
  },
  {
   "cell_type": "code",
   "execution_count": 7,
   "metadata": {
    "execution": {
     "iopub.execute_input": "2020-11-09T14:00:55.219155Z",
     "iopub.status.busy": "2020-11-09T14:00:55.218277Z",
     "iopub.status.idle": "2020-11-09T14:00:55.222753Z",
     "shell.execute_reply": "2020-11-09T14:00:55.222128Z"
    },
    "papermill": {
     "duration": 0.051258,
     "end_time": "2020-11-09T14:00:55.222862",
     "exception": false,
     "start_time": "2020-11-09T14:00:55.171604",
     "status": "completed"
    },
    "tags": []
   },
   "outputs": [],
   "source": [
    "def get_tab(df):\n",
    "    vector = [(df.Age.values[0] - 30) / 30] \n",
    "    \n",
    "    if df.Sex.values[0] == 'Male':\n",
    "       vector.append(0)\n",
    "    else:\n",
    "       vector.append(1)\n",
    "    \n",
    "    if df.SmokingStatus.values[0] == 'Never smoked':\n",
    "        vector.extend([0,0])\n",
    "    elif df.SmokingStatus.values[0] == 'Ex-smoker':\n",
    "        vector.extend([0,1])\n",
    "    elif df.SmokingStatus.values[0] == 'Currently smokes':\n",
    "        vector.extend([1,1])\n",
    "    else:\n",
    "        vector.extend([1,0])\n",
    "    return np.array(vector) "
   ]
  },
  {
   "cell_type": "code",
   "execution_count": 8,
   "metadata": {
    "execution": {
     "iopub.execute_input": "2020-11-09T14:00:55.308673Z",
     "iopub.status.busy": "2020-11-09T14:00:55.306563Z",
     "iopub.status.idle": "2020-11-09T14:00:55.309382Z",
     "shell.execute_reply": "2020-11-09T14:00:55.309986Z"
    },
    "papermill": {
     "duration": 0.04986,
     "end_time": "2020-11-09T14:00:55.310118",
     "exception": false,
     "start_time": "2020-11-09T14:00:55.260258",
     "status": "completed"
    },
    "tags": []
   },
   "outputs": [],
   "source": [
    "weeks_to_pred = np.array([i for i in range(-12, 134)]).astype(np.float32)"
   ]
  },
  {
   "cell_type": "code",
   "execution_count": 9,
   "metadata": {
    "execution": {
     "iopub.execute_input": "2020-11-09T14:00:55.416651Z",
     "iopub.status.busy": "2020-11-09T14:00:55.415901Z",
     "iopub.status.idle": "2020-11-09T14:00:56.812530Z",
     "shell.execute_reply": "2020-11-09T14:00:56.811644Z"
    },
    "papermill": {
     "duration": 1.461542,
     "end_time": "2020-11-09T14:00:56.812677",
     "exception": false,
     "start_time": "2020-11-09T14:00:55.351135",
     "status": "completed"
    },
    "tags": []
   },
   "outputs": [
    {
     "data": {
      "application/vnd.jupyter.widget-view+json": {
       "model_id": "2f1222f4bbc74d2b8565682444fa7831",
       "version_major": 2,
       "version_minor": 0
      },
      "text/plain": [
       "HBox(children=(FloatProgress(value=1.0, bar_style='info', max=1.0), HTML(value='')))"
      ]
     },
     "metadata": {},
     "output_type": "display_data"
    },
    {
     "name": "stdout",
     "output_type": "stream",
     "text": [
      "\n"
     ]
    },
    {
     "data": {
      "image/png": "[encoded data removed]",
      "text/plain": [
       "<Figure size 1296x1440 with 5 Axes>"
      ]
     },
     "metadata": {
      "needs_background": "light"
     },
     "output_type": "display_data"
    }
   ],
   "source": [
    "%matplotlib inline\n",
    "from scipy import optimize\n",
    "rows = 6\n",
    "cols = 1\n",
    "z = 1\n",
    "plt.figure(figsize=(18, 20))\n",
    "l_ = []\n",
    "A = {} \n",
    "TAB = {} \n",
    "P = [] \n",
    "for i, p in tqdm(enumerate(train.Patient.unique())):\n",
    "    sub = train.loc[train.Patient == p, :] \n",
    "    fvc = np.log(sub.FVC.values)\n",
    "    weeks = sub.Weeks.values\n",
    "    c = np.vstack([weeks, np.ones(len(weeks))]).T\n",
    "    a, b = np.linalg.lstsq(c, fvc, rcond=-1)[0]    \n",
    "    #exp decay\n",
    "    if z < 6:\n",
    "        # linear plot\n",
    "        plt.subplot(rows, cols, z)\n",
    "        plt.plot(weeks, fvc, 'o', label='Original data', markersize=10)\n",
    "        plt.plot(weeks, a*weeks + b, 'r', label='Fitted line')\n",
    "        plt.plot(weeks_to_pred, a*weeks_to_pred + b, 'r', label='pred line')\n",
    "        \n",
    "        plt.legend()\n",
    "        z +=1\n",
    "    A[p] = a\n",
    "    TAB[p] = get_tab(sub)\n",
    "    P.append(p)"
   ]
  },
  {
   "cell_type": "code",
   "execution_count": 10,
   "metadata": {
    "execution": {
     "iopub.execute_input": "2020-11-09T14:00:56.947205Z",
     "iopub.status.busy": "2020-11-09T14:00:56.946342Z",
     "iopub.status.idle": "2020-11-09T14:00:56.953046Z",
     "shell.execute_reply": "2020-11-09T14:00:56.954096Z"
    },
    "papermill": {
     "duration": 0.078879,
     "end_time": "2020-11-09T14:00:56.954274",
     "exception": false,
     "start_time": "2020-11-09T14:00:56.875395",
     "status": "completed"
    },
    "tags": []
   },
   "outputs": [],
   "source": [
    "A_list = []\n",
    "for i in list(A.values()):\n",
    "    if i > 0:\n",
    "        val = i - (np.max(list(A.values())) + 0.00000001)\n",
    "    else:\n",
    "        val = i\n",
    "    A_list.append(val)\n",
    "\n",
    "x=0\n",
    "for i in A.keys():\n",
    "    A[i] = A_list[x]\n",
    "    x += 1"
   ]
  },
  {
   "cell_type": "markdown",
   "metadata": {
    "papermill": {
     "duration": 0.057575,
     "end_time": "2020-11-09T14:00:57.075546",
     "exception": false,
     "start_time": "2020-11-09T14:00:57.017971",
     "status": "completed"
    },
    "tags": []
   },
   "source": [
    "## CNN for coeff prediction"
   ]
  },
  {
   "cell_type": "code",
   "execution_count": 11,
   "metadata": {
    "execution": {
     "iopub.execute_input": "2020-11-09T14:00:57.197510Z",
     "iopub.status.busy": "2020-11-09T14:00:57.196217Z",
     "iopub.status.idle": "2020-11-09T14:00:57.541104Z",
     "shell.execute_reply": "2020-11-09T14:00:57.540227Z"
    },
    "papermill": {
     "duration": 0.408187,
     "end_time": "2020-11-09T14:00:57.541242",
     "exception": false,
     "start_time": "2020-11-09T14:00:57.133055",
     "status": "completed"
    },
    "tags": []
   },
   "outputs": [
    {
     "data": {
      "image/png": "[encoded data removed]",
      "text/plain": [
       "<Figure size 432x288 with 1 Axes>"
      ]
     },
     "metadata": {
      "needs_background": "light"
     },
     "output_type": "display_data"
    }
   ],
   "source": [
    "import seaborn as sns\n",
    "\n",
    "sns.distplot(list(A.values()), bins=20);"
   ]
  },
  {
   "cell_type": "code",
   "execution_count": 12,
   "metadata": {
    "execution": {
     "iopub.execute_input": "2020-11-09T14:00:57.640840Z",
     "iopub.status.busy": "2020-11-09T14:00:57.638735Z",
     "iopub.status.idle": "2020-11-09T14:00:57.641579Z",
     "shell.execute_reply": "2020-11-09T14:00:57.642108Z"
    },
    "papermill": {
     "duration": 0.053472,
     "end_time": "2020-11-09T14:00:57.642240",
     "exception": false,
     "start_time": "2020-11-09T14:00:57.588768",
     "status": "completed"
    },
    "tags": []
   },
   "outputs": [],
   "source": [
    "def get_img(path):\n",
    "    d = pydicom.dcmread(path)\n",
    "    return cv2.resize((d.pixel_array - d.RescaleIntercept) / (d.RescaleSlope * 1000), (512, 512))"
   ]
  },
  {
   "cell_type": "code",
   "execution_count": 13,
   "metadata": {
    "execution": {
     "iopub.execute_input": "2020-11-09T14:00:57.751921Z",
     "iopub.status.busy": "2020-11-09T14:00:57.750143Z",
     "iopub.status.idle": "2020-11-09T14:00:57.752652Z",
     "shell.execute_reply": "2020-11-09T14:00:57.753112Z"
    },
    "papermill": {
     "duration": 0.065638,
     "end_time": "2020-11-09T14:00:57.753233",
     "exception": false,
     "start_time": "2020-11-09T14:00:57.687595",
     "status": "completed"
    },
    "tags": []
   },
   "outputs": [],
   "source": [
    "from tensorflow.keras.utils import Sequence\n",
    "\n",
    "class IGenerator(Sequence):\n",
    "    BAD_ID = ['ID00011637202177653955184', 'ID00052637202186188008618']\n",
    "    def __init__(self, keys, a, tab, batch_size=32):\n",
    "        self.keys = [k for k in keys if k not in self.BAD_ID]\n",
    "        self.a = a\n",
    "        self.tab = tab\n",
    "        self.batch_size = batch_size\n",
    "        \n",
    "        self.train_data = {}\n",
    "        for p in train.Patient.unique():\n",
    "            ldir = os.listdir(f'../input/osic-pulmonary-fibrosis-progression/train/{p}/')\n",
    "            numb = [float(i[:-4]) for i in ldir]\n",
    "            self.train_data[p] = [i for i in os.listdir(f'../input/osic-pulmonary-fibrosis-progression/train/{p}/') \n",
    "                                  if int(i[:-4]) / len(ldir) < 0.8 and int(i[:-4]) / len(ldir) > 0.15]\n",
    "    \n",
    "    def __len__(self):\n",
    "        return 1000\n",
    "    \n",
    "    def __getitem__(self, idx):\n",
    "        x = []\n",
    "        a, tab = [], [] \n",
    "        keys = np.random.choice(self.keys, size = self.batch_size)\n",
    "        for k in keys:\n",
    "            try:\n",
    "                i = np.random.choice(self.train_data[k], size=1)[0]\n",
    "                img = get_img(f'../input/osic-pulmonary-fibrosis-progression/train/{k}/{i}')\n",
    "                mask = cv2.resize(cv2.imread(f'../input/osic-pulmonary-fibrosis-progression-lungs-mask/mask_clear/mask_clear/{k}/{i[:-4]}.jpg', 0), (512, 512))> 0\n",
    "                img[~mask] = 0\n",
    "                x.append(img)\n",
    "                a.append(self.a[k])\n",
    "                tab.append(self.tab[k])\n",
    "            except:\n",
    "                print(k, i)\n",
    "       \n",
    "        x,a,tab = np.array(x), np.array(a), np.array(tab)\n",
    "        x = np.expand_dims(x, axis=-1)\n",
    "        return [x, tab] , a"
   ]
  },
  {
   "cell_type": "code",
   "execution_count": 14,
   "metadata": {
    "execution": {
     "iopub.execute_input": "2020-11-09T14:00:57.863550Z",
     "iopub.status.busy": "2020-11-09T14:00:57.859117Z",
     "iopub.status.idle": "2020-11-09T14:00:57.920634Z",
     "shell.execute_reply": "2020-11-09T14:00:57.919658Z"
    },
    "papermill": {
     "duration": 0.126433,
     "end_time": "2020-11-09T14:00:57.920750",
     "exception": false,
     "start_time": "2020-11-09T14:00:57.794317",
     "status": "completed"
    },
    "tags": []
   },
   "outputs": [],
   "source": [
    "from tensorflow.keras.layers import (\n",
    "    Dense, Dropout, Activation, Flatten, Input, BatchNormalization, GlobalAveragePooling2D, Add, Conv2D, AveragePooling2D, \n",
    "    LeakyReLU, Concatenate \n",
    ")\n",
    "\n",
    "from tensorflow.keras import Model\n",
    "from tensorflow.keras.optimizers import Nadam\n",
    "\n",
    "from keras import backend as K\n",
    "\n",
    "def get_exp(beta=0.025):\n",
    "    def exp_coef(x, beta=beta):\n",
    "        #orig = x\n",
    "        #x = tf.where(orig<=0, K.tanh(x*beta), x)\n",
    "        #x = tf.where(orig>0, -K.tanh(x*beta), x)\n",
    "        return 0.5 * K.tanh(x*beta) - beta\n",
    "    return exp_coef\n",
    "    \n",
    "def get_model(shape=(512, 512, 1)):\n",
    "    def res_block(x, n_features):\n",
    "        _x = x\n",
    "        x = BatchNormalization()(x)\n",
    "        x = LeakyReLU(0.05)(x)\n",
    "    \n",
    "        x = Conv2D(n_features, kernel_size=(3, 3), strides=(1, 1), padding='same')(x)\n",
    "        x = Add()([_x, x])\n",
    "        return x\n",
    "    \n",
    "    inp = Input(shape=shape)\n",
    "    \n",
    "    # 512\n",
    "    x = Conv2D(32, kernel_size=(3, 3), strides=(1, 1), padding='same')(inp)\n",
    "    x = BatchNormalization()(x)\n",
    "    x = LeakyReLU(0.05)(x)\n",
    "    \n",
    "    x = Conv2D(32, kernel_size=(3, 3), strides=(1, 1), padding='same')(x)\n",
    "    x = BatchNormalization()(x)\n",
    "    x = LeakyReLU(0.05)(x)\n",
    "    \n",
    "    x = AveragePooling2D(pool_size=(2, 2), strides=(2, 2))(x)\n",
    "    \n",
    "    # 256\n",
    "    x = Conv2D(8, kernel_size=(3, 3), strides=(1, 1), padding='same')(x)\n",
    "    for _ in range(2):\n",
    "        x = res_block(x, 8)\n",
    "    x = AveragePooling2D(pool_size=(2, 2), strides=(2, 2))(x)\n",
    "    \n",
    "    # 128\n",
    "    x = Conv2D(16, kernel_size=(3, 3), strides=(1, 1), padding='same')(x)\n",
    "    for _ in range(2):\n",
    "        x = res_block(x, 16)\n",
    "    x = AveragePooling2D(pool_size=(2, 2), strides=(2, 2))(x)\n",
    "    \n",
    "    # 64\n",
    "    x = Conv2D(32, kernel_size=(3, 3), strides=(1, 1), padding='same')(x)\n",
    "    for _ in range(3):\n",
    "        x = res_block(x, 32)\n",
    "    x = AveragePooling2D(pool_size=(2, 2), strides=(2, 2))(x)\n",
    "    \n",
    "    # 32\n",
    "    x = Conv2D(64, kernel_size=(3, 3), strides=(1, 1), padding='same')(x)\n",
    "    for _ in range(3):\n",
    "        x = res_block(x, 64)\n",
    "    x = AveragePooling2D(pool_size=(2, 2), strides=(2, 2))(x)    \n",
    "    \n",
    "    # 16\n",
    "    x = Conv2D(128, kernel_size=(3, 3), strides=(1, 1), padding='same')(x)\n",
    "    for _ in range(3):\n",
    "        x = res_block(x, 128)\n",
    "        \n",
    "    # 16\n",
    "    x = GlobalAveragePooling2D()(x)\n",
    "    \n",
    "    inp2 = Input(shape=(4,))\n",
    "    x2 = tf.keras.layers.GaussianNoise(0.2)(inp2)\n",
    "    x = Concatenate()([x, x2]) \n",
    "    x = Dropout(0.5)(x) \n",
    "    x = Dense(1, activation='tanh')(x)\n",
    "    x = Dense(1, activation=get_exp(beta=0.025))(x)\n",
    "\n",
    "    return Model([inp, inp2] , x)"
   ]
  },
  {
   "cell_type": "code",
   "execution_count": 15,
   "metadata": {
    "execution": {
     "iopub.execute_input": "2020-11-09T14:01:01.129737Z",
     "iopub.status.busy": "2020-11-09T14:01:01.128566Z",
     "iopub.status.idle": "2020-11-09T14:01:01.604939Z",
     "shell.execute_reply": "2020-11-09T14:01:01.603911Z"
    },
    "papermill": {
     "duration": 3.643089,
     "end_time": "2020-11-09T14:01:01.605079",
     "exception": false,
     "start_time": "2020-11-09T14:00:57.961990",
     "status": "completed"
    },
    "tags": []
   },
   "outputs": [
    {
     "data": {
      "text/plain": [
       "[<matplotlib.lines.Line2D at 0x7f2aa69db110>]"
      ]
     },
     "execution_count": 15,
     "metadata": {},
     "output_type": "execute_result"
    },
    {
     "data": {
      "image/png": "[encoded data removed]",
      "text/plain": [
       "<Figure size 432x288 with 1 Axes>"
      ]
     },
     "metadata": {
      "needs_background": "light"
     },
     "output_type": "display_data"
    }
   ],
   "source": [
    "def exp_coef(x, beta=1.0):\n",
    "        orig = x\n",
    "        #x = tf.where(orig<=0, K.tanh(x*beta), x)\n",
    "        #x = tf.where(orig>0, -K.tanh(x*beta), x)\n",
    "        return 0.5 * K.tanh(x*beta) - beta\n",
    "a = [i / 10 for i in range(-10, 10)]\n",
    "plt.plot(a, exp_coef(tf.convert_to_tensor(np.array(a).astype(np.float32)), beta=0.025), 'r.')"
   ]
  },
  {
   "cell_type": "code",
   "execution_count": 16,
   "metadata": {
    "execution": {
     "iopub.execute_input": "2020-11-09T14:01:01.717369Z",
     "iopub.status.busy": "2020-11-09T14:01:01.716336Z",
     "iopub.status.idle": "2020-11-09T14:01:02.990259Z",
     "shell.execute_reply": "2020-11-09T14:01:02.989498Z"
    },
    "papermill": {
     "duration": 1.33312,
     "end_time": "2020-11-09T14:01:02.990416",
     "exception": false,
     "start_time": "2020-11-09T14:01:01.657296",
     "status": "completed"
    },
    "tags": []
   },
   "outputs": [
    {
     "name": "stdout",
     "output_type": "stream",
     "text": [
      "Model: \"model\"\n",
      "__________________________________________________________________________________________________\n",
      "Layer (type)                    Output Shape         Param #     Connected to                     \n",
      "==================================================================================================\n",
      "input_1 (InputLayer)            [(None, 512, 512, 1) 0                                            \n",
      "__________________________________________________________________________________________________\n",
      "conv2d (Conv2D)                 (None, 512, 512, 32) 320         input_1[0][0]                    \n",
      "__________________________________________________________________________________________________\n",
      "batch_normalization (BatchNorma (None, 512, 512, 32) 128         conv2d[0][0]                     \n",
      "__________________________________________________________________________________________________\n",
      "leaky_re_lu (LeakyReLU)         (None, 512, 512, 32) 0           batch_normalization[0][0]        \n",
      "__________________________________________________________________________________________________\n",
      "conv2d_1 (Conv2D)               (None, 512, 512, 32) 9248        leaky_re_lu[0][0]                \n",
      "__________________________________________________________________________________________________\n",
      "batch_normalization_1 (BatchNor (None, 512, 512, 32) 128         conv2d_1[0][0]                   \n",
      "__________________________________________________________________________________________________\n",
      "leaky_re_lu_1 (LeakyReLU)       (None, 512, 512, 32) 0           batch_normalization_1[0][0]      \n",
      "__________________________________________________________________________________________________\n",
      "average_pooling2d (AveragePooli (None, 256, 256, 32) 0           leaky_re_lu_1[0][0]              \n",
      "__________________________________________________________________________________________________\n",
      "conv2d_2 (Conv2D)               (None, 256, 256, 8)  2312        average_pooling2d[0][0]          \n",
      "__________________________________________________________________________________________________\n",
      "batch_normalization_2 (BatchNor (None, 256, 256, 8)  32          conv2d_2[0][0]                   \n",
      "__________________________________________________________________________________________________\n",
      "leaky_re_lu_2 (LeakyReLU)       (None, 256, 256, 8)  0           batch_normalization_2[0][0]      \n",
      "__________________________________________________________________________________________________\n",
      "conv2d_3 (Conv2D)               (None, 256, 256, 8)  584         leaky_re_lu_2[0][0]              \n",
      "__________________________________________________________________________________________________\n",
      "add (Add)                       (None, 256, 256, 8)  0           conv2d_2[0][0]                   \n",
      "                                                                 conv2d_3[0][0]                   \n",
      "__________________________________________________________________________________________________\n",
      "batch_normalization_3 (BatchNor (None, 256, 256, 8)  32          add[0][0]                        \n",
      "__________________________________________________________________________________________________\n",
      "leaky_re_lu_3 (LeakyReLU)       (None, 256, 256, 8)  0           batch_normalization_3[0][0]      \n",
      "__________________________________________________________________________________________________\n",
      "conv2d_4 (Conv2D)               (None, 256, 256, 8)  584         leaky_re_lu_3[0][0]              \n",
      "__________________________________________________________________________________________________\n",
      "add_1 (Add)                     (None, 256, 256, 8)  0           add[0][0]                        \n",
      "                                                                 conv2d_4[0][0]                   \n",
      "__________________________________________________________________________________________________\n",
      "average_pooling2d_1 (AveragePoo (None, 128, 128, 8)  0           add_1[0][0]                      \n",
      "__________________________________________________________________________________________________\n",
      "conv2d_5 (Conv2D)               (None, 128, 128, 16) 1168        average_pooling2d_1[0][0]        \n",
      "__________________________________________________________________________________________________\n",
      "batch_normalization_4 (BatchNor (None, 128, 128, 16) 64          conv2d_5[0][0]                   \n",
      "__________________________________________________________________________________________________\n",
      "leaky_re_lu_4 (LeakyReLU)       (None, 128, 128, 16) 0           batch_normalization_4[0][0]      \n",
      "__________________________________________________________________________________________________\n",
      "conv2d_6 (Conv2D)               (None, 128, 128, 16) 2320        leaky_re_lu_4[0][0]              \n",
      "__________________________________________________________________________________________________\n",
      "add_2 (Add)                     (None, 128, 128, 16) 0           conv2d_5[0][0]                   \n",
      "                                                                 conv2d_6[0][0]                   \n",
      "__________________________________________________________________________________________________\n",
      "batch_normalization_5 (BatchNor (None, 128, 128, 16) 64          add_2[0][0]                      \n",
      "__________________________________________________________________________________________________\n",
      "leaky_re_lu_5 (LeakyReLU)       (None, 128, 128, 16) 0           batch_normalization_5[0][0]      \n",
      "__________________________________________________________________________________________________\n",
      "conv2d_7 (Conv2D)               (None, 128, 128, 16) 2320        leaky_re_lu_5[0][0]              \n",
      "__________________________________________________________________________________________________\n",
      "add_3 (Add)                     (None, 128, 128, 16) 0           add_2[0][0]                      \n",
      "                                                                 conv2d_7[0][0]                   \n",
      "__________________________________________________________________________________________________\n",
      "average_pooling2d_2 (AveragePoo (None, 64, 64, 16)   0           add_3[0][0]                      \n",
      "__________________________________________________________________________________________________\n",
      "conv2d_8 (Conv2D)               (None, 64, 64, 32)   4640        average_pooling2d_2[0][0]        \n",
      "__________________________________________________________________________________________________\n",
      "batch_normalization_6 (BatchNor (None, 64, 64, 32)   128         conv2d_8[0][0]                   \n",
      "__________________________________________________________________________________________________\n",
      "leaky_re_lu_6 (LeakyReLU)       (None, 64, 64, 32)   0           batch_normalization_6[0][0]      \n",
      "__________________________________________________________________________________________________\n",
      "conv2d_9 (Conv2D)               (None, 64, 64, 32)   9248        leaky_re_lu_6[0][0]              \n",
      "__________________________________________________________________________________________________\n",
      "add_4 (Add)                     (None, 64, 64, 32)   0           conv2d_8[0][0]                   \n",
      "                                                                 conv2d_9[0][0]                   \n",
      "__________________________________________________________________________________________________\n",
      "batch_normalization_7 (BatchNor (None, 64, 64, 32)   128         add_4[0][0]                      \n",
      "__________________________________________________________________________________________________\n",
      "leaky_re_lu_7 (LeakyReLU)       (None, 64, 64, 32)   0           batch_normalization_7[0][0]      \n",
      "__________________________________________________________________________________________________\n",
      "conv2d_10 (Conv2D)              (None, 64, 64, 32)   9248        leaky_re_lu_7[0][0]              \n",
      "__________________________________________________________________________________________________\n",
      "add_5 (Add)                     (None, 64, 64, 32)   0           add_4[0][0]                      \n",
      "                                                                 conv2d_10[0][0]                  \n",
      "__________________________________________________________________________________________________\n",
      "batch_normalization_8 (BatchNor (None, 64, 64, 32)   128         add_5[0][0]                      \n",
      "__________________________________________________________________________________________________\n",
      "leaky_re_lu_8 (LeakyReLU)       (None, 64, 64, 32)   0           batch_normalization_8[0][0]      \n",
      "__________________________________________________________________________________________________\n",
      "conv2d_11 (Conv2D)              (None, 64, 64, 32)   9248        leaky_re_lu_8[0][0]              \n",
      "__________________________________________________________________________________________________\n",
      "add_6 (Add)                     (None, 64, 64, 32)   0           add_5[0][0]                      \n",
      "                                                                 conv2d_11[0][0]                  \n",
      "__________________________________________________________________________________________________\n",
      "average_pooling2d_3 (AveragePoo (None, 32, 32, 32)   0           add_6[0][0]                      \n",
      "__________________________________________________________________________________________________\n",
      "conv2d_12 (Conv2D)              (None, 32, 32, 64)   18496       average_pooling2d_3[0][0]        \n",
      "__________________________________________________________________________________________________\n",
      "batch_normalization_9 (BatchNor (None, 32, 32, 64)   256         conv2d_12[0][0]                  \n",
      "__________________________________________________________________________________________________\n",
      "leaky_re_lu_9 (LeakyReLU)       (None, 32, 32, 64)   0           batch_normalization_9[0][0]      \n",
      "__________________________________________________________________________________________________\n",
      "conv2d_13 (Conv2D)              (None, 32, 32, 64)   36928       leaky_re_lu_9[0][0]              \n",
      "__________________________________________________________________________________________________\n",
      "add_7 (Add)                     (None, 32, 32, 64)   0           conv2d_12[0][0]                  \n",
      "                                                                 conv2d_13[0][0]                  \n",
      "__________________________________________________________________________________________________\n",
      "batch_normalization_10 (BatchNo (None, 32, 32, 64)   256         add_7[0][0]                      \n",
      "__________________________________________________________________________________________________\n",
      "leaky_re_lu_10 (LeakyReLU)      (None, 32, 32, 64)   0           batch_normalization_10[0][0]     \n",
      "__________________________________________________________________________________________________\n",
      "conv2d_14 (Conv2D)              (None, 32, 32, 64)   36928       leaky_re_lu_10[0][0]             \n",
      "__________________________________________________________________________________________________\n",
      "add_8 (Add)                     (None, 32, 32, 64)   0           add_7[0][0]                      \n",
      "                                                                 conv2d_14[0][0]                  \n",
      "__________________________________________________________________________________________________\n",
      "batch_normalization_11 (BatchNo (None, 32, 32, 64)   256         add_8[0][0]                      \n",
      "__________________________________________________________________________________________________\n",
      "leaky_re_lu_11 (LeakyReLU)      (None, 32, 32, 64)   0           batch_normalization_11[0][0]     \n",
      "__________________________________________________________________________________________________\n",
      "conv2d_15 (Conv2D)              (None, 32, 32, 64)   36928       leaky_re_lu_11[0][0]             \n",
      "__________________________________________________________________________________________________\n",
      "add_9 (Add)                     (None, 32, 32, 64)   0           add_8[0][0]                      \n",
      "                                                                 conv2d_15[0][0]                  \n",
      "__________________________________________________________________________________________________\n",
      "average_pooling2d_4 (AveragePoo (None, 16, 16, 64)   0           add_9[0][0]                      \n",
      "__________________________________________________________________________________________________\n",
      "conv2d_16 (Conv2D)              (None, 16, 16, 128)  73856       average_pooling2d_4[0][0]        \n",
      "__________________________________________________________________________________________________\n",
      "batch_normalization_12 (BatchNo (None, 16, 16, 128)  512         conv2d_16[0][0]                  \n",
      "__________________________________________________________________________________________________\n",
      "leaky_re_lu_12 (LeakyReLU)      (None, 16, 16, 128)  0           batch_normalization_12[0][0]     \n",
      "__________________________________________________________________________________________________\n",
      "conv2d_17 (Conv2D)              (None, 16, 16, 128)  147584      leaky_re_lu_12[0][0]             \n",
      "__________________________________________________________________________________________________\n",
      "add_10 (Add)                    (None, 16, 16, 128)  0           conv2d_16[0][0]                  \n",
      "                                                                 conv2d_17[0][0]                  \n",
      "__________________________________________________________________________________________________\n",
      "batch_normalization_13 (BatchNo (None, 16, 16, 128)  512         add_10[0][0]                     \n",
      "__________________________________________________________________________________________________\n",
      "leaky_re_lu_13 (LeakyReLU)      (None, 16, 16, 128)  0           batch_normalization_13[0][0]     \n",
      "__________________________________________________________________________________________________\n",
      "conv2d_18 (Conv2D)              (None, 16, 16, 128)  147584      leaky_re_lu_13[0][0]             \n",
      "__________________________________________________________________________________________________\n",
      "add_11 (Add)                    (None, 16, 16, 128)  0           add_10[0][0]                     \n",
      "                                                                 conv2d_18[0][0]                  \n",
      "__________________________________________________________________________________________________\n",
      "batch_normalization_14 (BatchNo (None, 16, 16, 128)  512         add_11[0][0]                     \n",
      "__________________________________________________________________________________________________\n",
      "leaky_re_lu_14 (LeakyReLU)      (None, 16, 16, 128)  0           batch_normalization_14[0][0]     \n",
      "__________________________________________________________________________________________________\n",
      "conv2d_19 (Conv2D)              (None, 16, 16, 128)  147584      leaky_re_lu_14[0][0]             \n",
      "__________________________________________________________________________________________________\n",
      "add_12 (Add)                    (None, 16, 16, 128)  0           add_11[0][0]                     \n",
      "                                                                 conv2d_19[0][0]                  \n",
      "__________________________________________________________________________________________________\n",
      "input_2 (InputLayer)            [(None, 4)]          0                                            \n",
      "__________________________________________________________________________________________________\n",
      "global_average_pooling2d (Globa (None, 128)          0           add_12[0][0]                     \n",
      "__________________________________________________________________________________________________\n",
      "gaussian_noise (GaussianNoise)  (None, 4)            0           input_2[0][0]                    \n",
      "__________________________________________________________________________________________________\n",
      "concatenate (Concatenate)       (None, 132)          0           global_average_pooling2d[0][0]   \n",
      "                                                                 gaussian_noise[0][0]             \n",
      "__________________________________________________________________________________________________\n",
      "dropout (Dropout)               (None, 132)          0           concatenate[0][0]                \n",
      "__________________________________________________________________________________________________\n",
      "dense (Dense)                   (None, 1)            133         dropout[0][0]                    \n",
      "__________________________________________________________________________________________________\n",
      "dense_1 (Dense)                 (None, 1)            2           dense[0][0]                      \n",
      "==================================================================================================\n",
      "Total params: 700,399\n",
      "Trainable params: 698,831\n",
      "Non-trainable params: 1,568\n",
      "__________________________________________________________________________________________________\n"
     ]
    }
   ],
   "source": [
    "model = get_model() \n",
    "model.summary() "
   ]
  },
  {
   "cell_type": "code",
   "execution_count": 17,
   "metadata": {
    "execution": {
     "iopub.execute_input": "2020-11-09T14:01:03.087382Z",
     "iopub.status.busy": "2020-11-09T14:01:03.086683Z",
     "iopub.status.idle": "2020-11-09T14:01:03.221485Z",
     "shell.execute_reply": "2020-11-09T14:01:03.220311Z"
    },
    "papermill": {
     "duration": 0.182818,
     "end_time": "2020-11-09T14:01:03.221632",
     "exception": false,
     "start_time": "2020-11-09T14:01:03.038814",
     "status": "completed"
    },
    "tags": []
   },
   "outputs": [],
   "source": [
    "from tensorflow_addons.optimizers import RectifiedAdam\n",
    "\n",
    "model.compile(optimizer=tf.keras.optimizers.Adam(learning_rate=0.001), loss='mse', metrics=['mean_absolute_error']) "
   ]
  },
  {
   "cell_type": "code",
   "execution_count": 18,
   "metadata": {
    "execution": {
     "iopub.execute_input": "2020-11-09T14:01:03.314253Z",
     "iopub.status.busy": "2020-11-09T14:01:03.313546Z",
     "iopub.status.idle": "2020-11-09T14:01:03.425681Z",
     "shell.execute_reply": "2020-11-09T14:01:03.425131Z"
    },
    "papermill": {
     "duration": 0.160229,
     "end_time": "2020-11-09T14:01:03.425803",
     "exception": false,
     "start_time": "2020-11-09T14:01:03.265574",
     "status": "completed"
    },
    "tags": []
   },
   "outputs": [],
   "source": [
    "from sklearn.model_selection import train_test_split \n",
    "\n",
    "tr_p, vl_p = train_test_split(P, \n",
    "                              shuffle=True, \n",
    "                              train_size= 0.8)"
   ]
  },
  {
   "cell_type": "code",
   "execution_count": 19,
   "metadata": {
    "execution": {
     "iopub.execute_input": "2020-11-09T14:01:03.520608Z",
     "iopub.status.busy": "2020-11-09T14:01:03.519897Z",
     "iopub.status.idle": "2020-11-09T14:01:03.523986Z",
     "shell.execute_reply": "2020-11-09T14:01:03.524419Z"
    },
    "papermill": {
     "duration": 0.055339,
     "end_time": "2020-11-09T14:01:03.524565",
     "exception": false,
     "start_time": "2020-11-09T14:01:03.469226",
     "status": "completed"
    },
    "tags": []
   },
   "outputs": [],
   "source": [
    "er = tf.keras.callbacks.EarlyStopping(\n",
    "    monitor=\"val_loss\",\n",
    "    min_delta=1e-6,\n",
    "    patience=10,\n",
    "    verbose=0,\n",
    "    mode=\"auto\",\n",
    "    baseline=None,\n",
    "    restore_best_weights=True,\n",
    ")"
   ]
  },
  {
   "cell_type": "code",
   "execution_count": 20,
   "metadata": {
    "execution": {
     "iopub.execute_input": "2020-11-09T14:01:03.620960Z",
     "iopub.status.busy": "2020-11-09T14:01:03.620336Z",
     "iopub.status.idle": "2020-11-09T14:21:52.434898Z",
     "shell.execute_reply": "2020-11-09T14:21:52.435338Z"
    },
    "papermill": {
     "duration": 1248.866782,
     "end_time": "2020-11-09T14:21:52.435594",
     "exception": false,
     "start_time": "2020-11-09T14:01:03.568812",
     "status": "completed"
    },
    "tags": []
   },
   "outputs": [
    {
     "name": "stdout",
     "output_type": "stream",
     "text": [
      "Epoch 1/30\n",
      "100/100 [==============================] - 60s 598ms/step - loss: 1.4569e-04 - mean_absolute_error: 0.0117 - val_loss: 1.1046e-04 - val_mean_absolute_error: 0.0103\n",
      "Epoch 2/30\n",
      "100/100 [==============================] - 57s 566ms/step - loss: 9.3710e-05 - mean_absolute_error: 0.0095 - val_loss: 6.9676e-05 - val_mean_absolute_error: 0.0080\n",
      "Epoch 3/30\n",
      "100/100 [==============================] - 54s 543ms/step - loss: 5.8730e-05 - mean_absolute_error: 0.0073 - val_loss: 4.3707e-05 - val_mean_absolute_error: 0.0062\n",
      "Epoch 4/30\n",
      "100/100 [==============================] - 52s 517ms/step - loss: 3.7095e-05 - mean_absolute_error: 0.0057 - val_loss: 2.6127e-05 - val_mean_absolute_error: 0.0048\n",
      "Epoch 5/30\n",
      "100/100 [==============================] - 50s 502ms/step - loss: 2.3160e-05 - mean_absolute_error: 0.0043 - val_loss: 1.6973e-05 - val_mean_absolute_error: 0.0038\n",
      "Epoch 6/30\n",
      "100/100 [==============================] - 49s 488ms/step - loss: 1.5113e-05 - mean_absolute_error: 0.0033 - val_loss: 1.0566e-05 - val_mean_absolute_error: 0.0029\n",
      "Epoch 7/30\n",
      "100/100 [==============================] - 47s 466ms/step - loss: 1.1196e-05 - mean_absolute_error: 0.0027 - val_loss: 7.6337e-06 - val_mean_absolute_error: 0.0024\n",
      "Epoch 8/30\n",
      "100/100 [==============================] - 48s 477ms/step - loss: 8.7454e-06 - mean_absolute_error: 0.0023 - val_loss: 5.7974e-06 - val_mean_absolute_error: 0.0020\n",
      "Epoch 9/30\n",
      "100/100 [==============================] - 47s 467ms/step - loss: 7.0872e-06 - mean_absolute_error: 0.0021 - val_loss: 5.4057e-06 - val_mean_absolute_error: 0.0019\n",
      "Epoch 10/30\n",
      "100/100 [==============================] - 47s 472ms/step - loss: 7.6967e-06 - mean_absolute_error: 0.0020 - val_loss: 5.5319e-06 - val_mean_absolute_error: 0.0019\n",
      "Epoch 11/30\n",
      "100/100 [==============================] - 47s 474ms/step - loss: 6.2847e-06 - mean_absolute_error: 0.0019 - val_loss: 5.3461e-06 - val_mean_absolute_error: 0.0018\n",
      "Epoch 12/30\n",
      "100/100 [==============================] - 47s 473ms/step - loss: 6.5873e-06 - mean_absolute_error: 0.0019 - val_loss: 5.7346e-06 - val_mean_absolute_error: 0.0018\n",
      "Epoch 13/30\n",
      "100/100 [==============================] - 48s 483ms/step - loss: 6.3565e-06 - mean_absolute_error: 0.0018 - val_loss: 5.2844e-06 - val_mean_absolute_error: 0.0017\n",
      "Epoch 14/30\n",
      "100/100 [==============================] - 49s 494ms/step - loss: 6.5090e-06 - mean_absolute_error: 0.0018 - val_loss: 4.9721e-06 - val_mean_absolute_error: 0.0017\n",
      "Epoch 15/30\n",
      "100/100 [==============================] - 49s 489ms/step - loss: 7.0533e-06 - mean_absolute_error: 0.0019 - val_loss: 4.5715e-06 - val_mean_absolute_error: 0.0017\n",
      "Epoch 16/30\n",
      "100/100 [==============================] - 49s 492ms/step - loss: 6.0708e-06 - mean_absolute_error: 0.0018 - val_loss: 5.8440e-06 - val_mean_absolute_error: 0.0018\n",
      "Epoch 17/30\n",
      "100/100 [==============================] - 47s 475ms/step - loss: 8.1654e-06 - mean_absolute_error: 0.0019 - val_loss: 4.8405e-06 - val_mean_absolute_error: 0.0017\n",
      "Epoch 18/30\n",
      "100/100 [==============================] - 47s 475ms/step - loss: 6.8760e-06 - mean_absolute_error: 0.0019 - val_loss: 4.7971e-06 - val_mean_absolute_error: 0.0017\n",
      "Epoch 19/30\n",
      "100/100 [==============================] - 48s 476ms/step - loss: 6.5530e-06 - mean_absolute_error: 0.0018 - val_loss: 4.7686e-06 - val_mean_absolute_error: 0.0017\n",
      "Epoch 20/30\n",
      "100/100 [==============================] - 48s 479ms/step - loss: 7.9368e-06 - mean_absolute_error: 0.0019 - val_loss: 5.1461e-06 - val_mean_absolute_error: 0.0017\n",
      "Epoch 21/30\n",
      "100/100 [==============================] - 47s 474ms/step - loss: 6.5659e-06 - mean_absolute_error: 0.0019 - val_loss: 5.0283e-06 - val_mean_absolute_error: 0.0017\n",
      "Epoch 22/30\n",
      "100/100 [==============================] - 47s 473ms/step - loss: 7.1933e-06 - mean_absolute_error: 0.0019 - val_loss: 4.6350e-06 - val_mean_absolute_error: 0.0017\n",
      "Epoch 23/30\n",
      "100/100 [==============================] - 46s 459ms/step - loss: 6.5794e-06 - mean_absolute_error: 0.0018 - val_loss: 4.8562e-06 - val_mean_absolute_error: 0.0017\n",
      "Epoch 24/30\n",
      "100/100 [==============================] - 46s 462ms/step - loss: 7.1813e-06 - mean_absolute_error: 0.0019 - val_loss: 4.6746e-06 - val_mean_absolute_error: 0.0017\n",
      "Epoch 25/30\n",
      "100/100 [==============================] - 46s 462ms/step - loss: 6.2785e-06 - mean_absolute_error: 0.0018 - val_loss: 4.4455e-06 - val_mean_absolute_error: 0.0016\n"
     ]
    },
    {
     "data": {
      "text/plain": [
       "<tensorflow.python.keras.callbacks.History at 0x7f2a2c0ead90>"
      ]
     },
     "execution_count": 20,
     "metadata": {},
     "output_type": "execute_result"
    }
   ],
   "source": [
    "model.fit_generator(IGenerator(keys=tr_p, \n",
    "                               a = A, \n",
    "                               tab = TAB), \n",
    "                    steps_per_epoch = 100,\n",
    "                    validation_data=IGenerator(keys=vl_p, \n",
    "                               a = A, \n",
    "                               tab = TAB),\n",
    "                    validation_steps = 20, \n",
    "                    callbacks = [er], \n",
    "                    epochs=30)"
   ]
  },
  {
   "cell_type": "code",
   "execution_count": 21,
   "metadata": {
    "execution": {
     "iopub.execute_input": "2020-11-09T14:21:54.263591Z",
     "iopub.status.busy": "2020-11-09T14:21:54.262716Z",
     "iopub.status.idle": "2020-11-09T14:21:54.265853Z",
     "shell.execute_reply": "2020-11-09T14:21:54.265352Z"
    },
    "papermill": {
     "duration": 0.927313,
     "end_time": "2020-11-09T14:21:54.265957",
     "exception": false,
     "start_time": "2020-11-09T14:21:53.338644",
     "status": "completed"
    },
    "tags": []
   },
   "outputs": [],
   "source": [
    "def score(fvc_true, fvc_pred, sigma):\n",
    "    sigma_clip = np.maximum(sigma, 70)\n",
    "    delta = np.abs(fvc_true - fvc_pred)\n",
    "    delta = np.minimum(delta, 1000)\n",
    "    sq2 = np.sqrt(2)\n",
    "    metric = (delta / sigma_clip)*sq2 + np.log(sigma_clip* sq2)\n",
    "    return np.mean(metric)"
   ]
  },
  {
   "cell_type": "code",
   "execution_count": 22,
   "metadata": {
    "execution": {
     "iopub.execute_input": "2020-11-09T14:21:56.139110Z",
     "iopub.status.busy": "2020-11-09T14:21:56.133535Z",
     "iopub.status.idle": "2020-11-09T14:26:07.666826Z",
     "shell.execute_reply": "2020-11-09T14:26:07.663114Z"
    },
    "papermill": {
     "duration": 252.492764,
     "end_time": "2020-11-09T14:26:07.666997",
     "exception": false,
     "start_time": "2020-11-09T14:21:55.174233",
     "status": "completed"
    },
    "tags": []
   },
   "outputs": [
    {
     "data": {
      "application/vnd.jupyter.widget-view+json": {
       "model_id": "6f92e27836a447fdb5f68e695fb912fd",
       "version_major": 2,
       "version_minor": 0
      },
      "text/plain": [
       "HBox(children=(FloatProgress(value=0.0, max=9.0), HTML(value='')))"
      ]
     },
     "metadata": {},
     "output_type": "display_data"
    },
    {
     "name": "stdout",
     "output_type": "stream",
     "text": [
      "7.527802020335483\n",
      "7.527802020335483\n",
      "7.527802020335483\n",
      "7.527802020335483\n",
      "7.527802020335483\n",
      "7.527802020335483\n",
      "7.527802020335483\n",
      "7.527802020335483\n",
      "7.527802020335483\n",
      "\n"
     ]
    }
   ],
   "source": [
    "from tqdm.notebook import tqdm\n",
    "\n",
    "metric = []\n",
    "for q in tqdm(range(1, 10)):\n",
    "    m = []\n",
    "    for p in vl_p:\n",
    "        x = [] \n",
    "        tab = [] \n",
    "\n",
    "        if p in ['ID00011637202177653955184', 'ID00052637202186188008618']:\n",
    "            continue\n",
    "\n",
    "        ldir = os.listdir(f'../input/osic-pulmonary-fibrosis-progression/train/{p}/')\n",
    "        for i in ldir:\n",
    "            if int(i[:-4]) / len(ldir) < 0.8 and int(i[:-4]) / len(ldir) > 0.15:\n",
    "                x.append(get_img(f'../input/osic-pulmonary-fibrosis-progression/train/{p}/{i}')) \n",
    "                tab.append(get_tab(train.loc[train.Patient == p, :])) \n",
    "        if len(x) < 1:\n",
    "            continue\n",
    "        tab = np.array(tab) \n",
    "\n",
    "        x = np.expand_dims(x, axis=-1) \n",
    "        _a = model.predict([x, tab])\n",
    "        a = _a\n",
    "        a = np.quantile(_a, q / 10)\n",
    "\n",
    "        percent_true = train.Percent.values[train.Patient == p]\n",
    "        fvc_true = train.FVC.values[train.Patient == p]\n",
    "        weeks_true = train.Weeks.values[train.Patient == p]\n",
    "\n",
    "\n",
    "        fvc = np.exp(a*(weeks_true - weeks_true[0]) + np.log(fvc_true[0]))\n",
    "        sigma = percent_true[0] - np.exp(abs(weeks_true - weeks_true[0]) * a)\n",
    "        #print('org:{}, pred:{}'.format(A[p], np.mean(a)))\n",
    "        m.append(score(fvc_true, fvc, sigma))\n",
    "    print(np.mean(m))\n",
    "    metric.append(np.mean(m))"
   ]
  },
  {
   "cell_type": "markdown",
   "metadata": {
    "papermill": {
     "duration": 1.200219,
     "end_time": "2020-11-09T14:26:09.795718",
     "exception": false,
     "start_time": "2020-11-09T14:26:08.595499",
     "status": "completed"
    },
    "tags": []
   },
   "source": [
    "## Predict"
   ]
  },
  {
   "cell_type": "code",
   "execution_count": 23,
   "metadata": {
    "execution": {
     "iopub.execute_input": "2020-11-09T14:26:11.649405Z",
     "iopub.status.busy": "2020-11-09T14:26:11.647578Z",
     "iopub.status.idle": "2020-11-09T14:26:11.651995Z",
     "shell.execute_reply": "2020-11-09T14:26:11.651365Z"
    },
    "papermill": {
     "duration": 0.930588,
     "end_time": "2020-11-09T14:26:11.652144",
     "exception": false,
     "start_time": "2020-11-09T14:26:10.721556",
     "status": "completed"
    },
    "tags": []
   },
   "outputs": [
    {
     "data": {
      "text/plain": [
       "0.1"
      ]
     },
     "execution_count": 23,
     "metadata": {},
     "output_type": "execute_result"
    }
   ],
   "source": [
    "q = (np.argmin(metric) + 1)/ 10\n",
    "q"
   ]
  },
  {
   "cell_type": "code",
   "execution_count": 24,
   "metadata": {
    "execution": {
     "iopub.execute_input": "2020-11-09T14:26:13.492812Z",
     "iopub.status.busy": "2020-11-09T14:26:13.491665Z",
     "iopub.status.idle": "2020-11-09T14:26:13.517826Z",
     "shell.execute_reply": "2020-11-09T14:26:13.517169Z"
    },
    "papermill": {
     "duration": 0.952593,
     "end_time": "2020-11-09T14:26:13.517967",
     "exception": false,
     "start_time": "2020-11-09T14:26:12.565374",
     "status": "completed"
    },
    "tags": []
   },
   "outputs": [
    {
     "data": {
      "text/html": [
       "<div>\n",
       "<style scoped>\n",
       "    .dataframe tbody tr th:only-of-type {\n",
       "        vertical-align: middle;\n",
       "    }\n",
       "\n",
       "    .dataframe tbody tr th {\n",
       "        vertical-align: top;\n",
       "    }\n",
       "\n",
       "    .dataframe thead th {\n",
       "        text-align: right;\n",
       "    }\n",
       "</style>\n",
       "<table border=\"1\" class=\"dataframe\">\n",
       "  <thead>\n",
       "    <tr style=\"text-align: right;\">\n",
       "      <th></th>\n",
       "      <th>Patient_Week</th>\n",
       "      <th>FVC</th>\n",
       "      <th>Confidence</th>\n",
       "    </tr>\n",
       "  </thead>\n",
       "  <tbody>\n",
       "    <tr>\n",
       "      <th>0</th>\n",
       "      <td>ID00419637202311204720264_-12</td>\n",
       "      <td>2000</td>\n",
       "      <td>100</td>\n",
       "    </tr>\n",
       "    <tr>\n",
       "      <th>1</th>\n",
       "      <td>ID00421637202311550012437_-12</td>\n",
       "      <td>2000</td>\n",
       "      <td>100</td>\n",
       "    </tr>\n",
       "    <tr>\n",
       "      <th>2</th>\n",
       "      <td>ID00422637202311677017371_-12</td>\n",
       "      <td>2000</td>\n",
       "      <td>100</td>\n",
       "    </tr>\n",
       "    <tr>\n",
       "      <th>3</th>\n",
       "      <td>ID00423637202312137826377_-12</td>\n",
       "      <td>2000</td>\n",
       "      <td>100</td>\n",
       "    </tr>\n",
       "    <tr>\n",
       "      <th>4</th>\n",
       "      <td>ID00426637202313170790466_-12</td>\n",
       "      <td>2000</td>\n",
       "      <td>100</td>\n",
       "    </tr>\n",
       "  </tbody>\n",
       "</table>\n",
       "</div>"
      ],
      "text/plain": [
       "                    Patient_Week   FVC  Confidence\n",
       "0  ID00419637202311204720264_-12  2000         100\n",
       "1  ID00421637202311550012437_-12  2000         100\n",
       "2  ID00422637202311677017371_-12  2000         100\n",
       "3  ID00423637202312137826377_-12  2000         100\n",
       "4  ID00426637202313170790466_-12  2000         100"
      ]
     },
     "execution_count": 24,
     "metadata": {},
     "output_type": "execute_result"
    }
   ],
   "source": [
    "sub = pd.read_csv('../input/osic-pulmonary-fibrosis-progression/sample_submission.csv') \n",
    "sub.head() "
   ]
  },
  {
   "cell_type": "code",
   "execution_count": 25,
   "metadata": {
    "execution": {
     "iopub.execute_input": "2020-11-09T14:26:15.336315Z",
     "iopub.status.busy": "2020-11-09T14:26:15.335428Z",
     "iopub.status.idle": "2020-11-09T14:26:15.342413Z",
     "shell.execute_reply": "2020-11-09T14:26:15.341867Z"
    },
    "papermill": {
     "duration": 0.920099,
     "end_time": "2020-11-09T14:26:15.342541",
     "exception": false,
     "start_time": "2020-11-09T14:26:14.422442",
     "status": "completed"
    },
    "tags": []
   },
   "outputs": [],
   "source": [
    "test = pd.read_csv('../input/osic-pulmonary-fibrosis-progression/test.csv')"
   ]
  },
  {
   "cell_type": "code",
   "execution_count": 26,
   "metadata": {
    "execution": {
     "iopub.execute_input": "2020-11-09T14:26:17.175221Z",
     "iopub.status.busy": "2020-11-09T14:26:17.174428Z",
     "iopub.status.idle": "2020-11-09T14:26:30.016672Z",
     "shell.execute_reply": "2020-11-09T14:26:30.015724Z"
    },
    "papermill": {
     "duration": 13.771071,
     "end_time": "2020-11-09T14:26:30.016794",
     "exception": false,
     "start_time": "2020-11-09T14:26:16.245723",
     "status": "completed"
    },
    "tags": []
   },
   "outputs": [],
   "source": [
    "A_test, B_test, P_test,W, FVC= {}, {}, {},{},{} \n",
    "STD, WEEK = {}, {} \n",
    "for p in test.Patient.unique():\n",
    "    x = [] \n",
    "    tab = [] \n",
    "    ldir = os.listdir(f'../input/osic-pulmonary-fibrosis-progression/test/{p}/')\n",
    "    for i in ldir:\n",
    "        if int(i[:-4]) / len(ldir) < 0.8 and int(i[:-4]) / len(ldir) > 0.15:\n",
    "            x.append(get_img(f'../input/osic-pulmonary-fibrosis-progression/test/{p}/{i}')) \n",
    "            tab.append(get_tab(test.loc[test.Patient == p, :])) \n",
    "    if len(x) <= 1:\n",
    "        continue\n",
    "    tab = np.array(tab) \n",
    "            \n",
    "    x = np.expand_dims(x, axis=-1) \n",
    "    _a = model.predict([x, tab]) \n",
    "    a = _a\n",
    "    a = np.quantile(_a, q)\n",
    "    A_test[p] = a\n",
    "    B_test[p] = np.log(test.FVC.values[test.Patient == p]) - (test.Weeks.values[test.Patient == p]) * a\n",
    "    P_test[p] = test.Percent.values[test.Patient == p] \n",
    "    WEEK[p] = test.Weeks.values[test.Patient == p]"
   ]
  },
  {
   "cell_type": "code",
   "execution_count": 27,
   "metadata": {
    "execution": {
     "iopub.execute_input": "2020-11-09T14:26:32.006551Z",
     "iopub.status.busy": "2020-11-09T14:26:32.005659Z",
     "iopub.status.idle": "2020-11-09T14:26:34.810720Z",
     "shell.execute_reply": "2020-11-09T14:26:34.810120Z"
    },
    "papermill": {
     "duration": 3.827154,
     "end_time": "2020-11-09T14:26:34.810837",
     "exception": false,
     "start_time": "2020-11-09T14:26:30.983683",
     "status": "completed"
    },
    "tags": []
   },
   "outputs": [],
   "source": [
    "for k in sub.Patient_Week.values:\n",
    "    p, w = k.split('_')\n",
    "    w = int(w) \n",
    "    fvc = np.exp(w*A_test[p] + B_test[p])\n",
    "    sub.loc[sub.Patient_Week == k, 'FVC'] = fvc\n",
    "    sub.loc[sub.Patient_Week == k, 'Confidence'] = P_test[p] - np.exp(A_test[p] * abs(WEEK[p] - w))\n",
    "    "
   ]
  },
  {
   "cell_type": "code",
   "execution_count": 28,
   "metadata": {
    "execution": {
     "iopub.execute_input": "2020-11-09T14:26:36.757878Z",
     "iopub.status.busy": "2020-11-09T14:26:36.756819Z",
     "iopub.status.idle": "2020-11-09T14:26:37.184731Z",
     "shell.execute_reply": "2020-11-09T14:26:37.184037Z"
    },
    "papermill": {
     "duration": 1.455597,
     "end_time": "2020-11-09T14:26:37.184879",
     "exception": false,
     "start_time": "2020-11-09T14:26:35.729282",
     "status": "completed"
    },
    "tags": []
   },
   "outputs": [
    {
     "data": {
      "text/plain": [
       "<matplotlib.axes._subplots.AxesSubplot at 0x7f263e6c5e50>"
      ]
     },
     "execution_count": 28,
     "metadata": {},
     "output_type": "execute_result"
    },
    {
     "data": {
      "image/png": "[encoded data removed]",
      "text/plain": [
       "<Figure size 432x288 with 1 Axes>"
      ]
     },
     "metadata": {
      "needs_background": "light"
     },
     "output_type": "display_data"
    }
   ],
   "source": [
    "sub.FVC.hist()"
   ]
  },
  {
   "cell_type": "code",
   "execution_count": 29,
   "metadata": {
    "execution": {
     "iopub.execute_input": "2020-11-09T14:26:39.254981Z",
     "iopub.status.busy": "2020-11-09T14:26:39.254207Z",
     "iopub.status.idle": "2020-11-09T14:26:39.904613Z",
     "shell.execute_reply": "2020-11-09T14:26:39.903703Z"
    },
    "papermill": {
     "duration": 1.590549,
     "end_time": "2020-11-09T14:26:39.904731",
     "exception": false,
     "start_time": "2020-11-09T14:26:38.314182",
     "status": "completed"
    },
    "tags": []
   },
   "outputs": [],
   "source": [
    "sub[[\"Patient_Week\",\"FVC\",\"Confidence\"]].to_csv(\"submission_img.csv\", index=False)\n",
    "img_sub = sub[[\"Patient_Week\",\"FVC\",\"Confidence\"]].copy()"
   ]
  },
  {
   "cell_type": "code",
   "execution_count": 30,
   "metadata": {
    "execution": {
     "iopub.execute_input": "2020-11-09T14:26:41.744512Z",
     "iopub.status.busy": "2020-11-09T14:26:41.743783Z",
     "iopub.status.idle": "2020-11-09T14:26:41.790654Z",
     "shell.execute_reply": "2020-11-09T14:26:41.789884Z"
    },
    "papermill": {
     "duration": 0.970999,
     "end_time": "2020-11-09T14:26:41.790760",
     "exception": false,
     "start_time": "2020-11-09T14:26:40.819761",
     "status": "completed"
    },
    "tags": []
   },
   "outputs": [
    {
     "name": "stdout",
     "output_type": "stream",
     "text": [
      "add infos\n"
     ]
    }
   ],
   "source": [
    "ROOT = \"../input/osic-pulmonary-fibrosis-progression\"\n",
    "BATCH_SIZE=128\n",
    "\n",
    "tr = pd.read_csv(f\"{ROOT}/train.csv\")\n",
    "tr.drop_duplicates(keep=False, inplace=True, subset=['Patient','Weeks'])\n",
    "chunk = pd.read_csv(f\"{ROOT}/test.csv\")\n",
    "\n",
    "print(\"add infos\")\n",
    "sub = pd.read_csv(f\"{ROOT}/sample_submission.csv\")\n",
    "sub['Patient'] = sub['Patient_Week'].apply(lambda x:x.split('_')[0])\n",
    "sub['Weeks'] = sub['Patient_Week'].apply(lambda x: int(x.split('_')[-1]))\n",
    "sub =  sub[['Patient','Weeks','Confidence','Patient_Week']]\n",
    "sub = sub.merge(chunk.drop('Weeks', axis=1), on=\"Patient\")"
   ]
  },
  {
   "cell_type": "code",
   "execution_count": 31,
   "metadata": {
    "execution": {
     "iopub.execute_input": "2020-11-09T14:26:43.828811Z",
     "iopub.status.busy": "2020-11-09T14:26:43.827250Z",
     "iopub.status.idle": "2020-11-09T14:26:43.850962Z",
     "shell.execute_reply": "2020-11-09T14:26:43.850276Z"
    },
    "papermill": {
     "duration": 0.935129,
     "end_time": "2020-11-09T14:26:43.851074",
     "exception": false,
     "start_time": "2020-11-09T14:26:42.915945",
     "status": "completed"
    },
    "tags": []
   },
   "outputs": [],
   "source": [
    "tr['WHERE'] = 'train'\n",
    "chunk['WHERE'] = 'val'\n",
    "sub['WHERE'] = 'test'\n",
    "data = tr.append([chunk, sub])\n",
    "\n",
    "data['min_week'] = data['Weeks']\n",
    "data.loc[data.WHERE=='test','min_week'] = np.nan\n",
    "data['min_week'] = data.groupby('Patient')['min_week'].transform('min')"
   ]
  },
  {
   "cell_type": "code",
   "execution_count": 32,
   "metadata": {
    "execution": {
     "iopub.execute_input": "2020-11-09T14:26:45.715515Z",
     "iopub.status.busy": "2020-11-09T14:26:45.713974Z",
     "iopub.status.idle": "2020-11-09T14:26:45.725712Z",
     "shell.execute_reply": "2020-11-09T14:26:45.725184Z"
    },
    "papermill": {
     "duration": 0.963599,
     "end_time": "2020-11-09T14:26:45.725814",
     "exception": false,
     "start_time": "2020-11-09T14:26:44.762215",
     "status": "completed"
    },
    "tags": []
   },
   "outputs": [],
   "source": [
    "base = data.loc[data.Weeks == data.min_week]\n",
    "base = base[['Patient','FVC']].copy()\n",
    "base.columns = ['Patient','min_FVC']\n",
    "base['nb'] = 1\n",
    "base['nb'] = base.groupby('Patient')['nb'].transform('cumsum')\n",
    "base = base[base.nb==1]\n",
    "base.drop('nb', axis=1, inplace=True)\n",
    "data = data.merge(base, on='Patient', how='left')\n",
    "data['base_week'] = data['Weeks'] - data['min_week']\n",
    "del base"
   ]
  },
  {
   "cell_type": "code",
   "execution_count": 33,
   "metadata": {
    "execution": {
     "iopub.execute_input": "2020-11-09T14:26:47.534198Z",
     "iopub.status.busy": "2020-11-09T14:26:47.533288Z",
     "iopub.status.idle": "2020-11-09T14:26:47.540108Z",
     "shell.execute_reply": "2020-11-09T14:26:47.539642Z"
    },
    "papermill": {
     "duration": 0.913588,
     "end_time": "2020-11-09T14:26:47.540208",
     "exception": false,
     "start_time": "2020-11-09T14:26:46.626620",
     "status": "completed"
    },
    "tags": []
   },
   "outputs": [],
   "source": [
    "COLS = ['Sex','SmokingStatus'] #,'Age'\n",
    "FE = []\n",
    "for col in COLS:\n",
    "    for mod in data[col].unique():\n",
    "        FE.append(mod)\n",
    "        data[mod] = (data[col] == mod).astype(int)"
   ]
  },
  {
   "cell_type": "code",
   "execution_count": 34,
   "metadata": {
    "execution": {
     "iopub.execute_input": "2020-11-09T14:26:49.382641Z",
     "iopub.status.busy": "2020-11-09T14:26:49.381820Z",
     "iopub.status.idle": "2020-11-09T14:26:49.384977Z",
     "shell.execute_reply": "2020-11-09T14:26:49.384478Z"
    },
    "papermill": {
     "duration": 0.937907,
     "end_time": "2020-11-09T14:26:49.385073",
     "exception": false,
     "start_time": "2020-11-09T14:26:48.447166",
     "status": "completed"
    },
    "tags": []
   },
   "outputs": [],
   "source": [
    "data['age'] = (data['Age'] - data['Age'].min() ) / ( data['Age'].max() - data['Age'].min() )\n",
    "data['BASE'] = (data['min_FVC'] - data['min_FVC'].min() ) / ( data['min_FVC'].max() - data['min_FVC'].min() )\n",
    "data['week'] = (data['base_week'] - data['base_week'].min() ) / ( data['base_week'].max() - data['base_week'].min() )\n",
    "data['percent'] = (data['Percent'] - data['Percent'].min() ) / ( data['Percent'].max() - data['Percent'].min() )\n",
    "FE += ['age','percent','week','BASE']"
   ]
  },
  {
   "cell_type": "code",
   "execution_count": 35,
   "metadata": {
    "execution": {
     "iopub.execute_input": "2020-11-09T14:26:51.206116Z",
     "iopub.status.busy": "2020-11-09T14:26:51.205066Z",
     "iopub.status.idle": "2020-11-09T14:26:51.213161Z",
     "shell.execute_reply": "2020-11-09T14:26:51.212596Z"
    },
    "papermill": {
     "duration": 0.922492,
     "end_time": "2020-11-09T14:26:51.213270",
     "exception": false,
     "start_time": "2020-11-09T14:26:50.290778",
     "status": "completed"
    },
    "tags": []
   },
   "outputs": [],
   "source": [
    "tr = data.loc[data.WHERE=='train']\n",
    "chunk = data.loc[data.WHERE=='val']\n",
    "sub = data.loc[data.WHERE=='test']\n",
    "del data"
   ]
  },
  {
   "cell_type": "code",
   "execution_count": 36,
   "metadata": {
    "execution": {
     "iopub.execute_input": "2020-11-09T14:26:53.077695Z",
     "iopub.status.busy": "2020-11-09T14:26:53.072638Z",
     "iopub.status.idle": "2020-11-09T14:26:53.101617Z",
     "shell.execute_reply": "2020-11-09T14:26:53.102691Z"
    },
    "papermill": {
     "duration": 0.968325,
     "end_time": "2020-11-09T14:26:53.102870",
     "exception": false,
     "start_time": "2020-11-09T14:26:52.134545",
     "status": "completed"
    },
    "tags": []
   },
   "outputs": [],
   "source": [
    "C1, C2 = tf.constant(70, dtype='float32'), tf.constant(1000, dtype=\"float32\")\n",
    "\n",
    "def score(y_true, y_pred):\n",
    "    tf.dtypes.cast(y_true, tf.float32)\n",
    "    tf.dtypes.cast(y_pred, tf.float32)\n",
    "    sigma = y_pred[:, 2] - y_pred[:, 0]\n",
    "    fvc_pred = y_pred[:, 1]\n",
    "    \n",
    "    #sigma_clip = sigma + C1\n",
    "    sigma_clip = tf.maximum(sigma, C1)\n",
    "    delta = tf.abs(y_true[:, 0] - fvc_pred)\n",
    "    delta = tf.minimum(delta, C2)\n",
    "    sq2 = tf.sqrt( tf.dtypes.cast(2, dtype=tf.float32) )\n",
    "    metric = (delta / sigma_clip)*sq2 + tf.math.log(sigma_clip* sq2)\n",
    "    return K.mean(metric)\n",
    "\n",
    "def qloss(y_true, y_pred):\n",
    "    # Pinball loss for multiple quantiles\n",
    "    qs = [0.2, 0.50, 0.8]\n",
    "    q = tf.constant(np.array([qs]), dtype=tf.float32)\n",
    "    e = y_true - y_pred\n",
    "    v = tf.maximum(q*e, (q-1)*e)\n",
    "    return K.mean(v)\n",
    "\n",
    "def mloss(_lambda):\n",
    "    def loss(y_true, y_pred):\n",
    "        return _lambda * qloss(y_true, y_pred) + (1 - _lambda)*score(y_true, y_pred)\n",
    "    return loss\n",
    "\n",
    "def make_model(nh):\n",
    "    z = L.Input((nh,), name=\"Patient\")\n",
    "    x = L.Dense(100, activation=\"relu\", name=\"d1\")(z)\n",
    "    x = L.Dense(100, activation=\"relu\", name=\"d2\")(x)\n",
    "    #x = L.Dense(100, activation=\"relu\", name=\"d3\")(x)\n",
    "    p1 = L.Dense(3, activation=\"linear\", name=\"p1\")(x)\n",
    "    p2 = L.Dense(3, activation=\"relu\", name=\"p2\")(x)\n",
    "    preds = L.Lambda(lambda x: x[0] + tf.cumsum(x[1], axis=1), \n",
    "                     name=\"preds\")([p1, p2])\n",
    "    \n",
    "    model = M.Model(z, preds, name=\"CNN\")\n",
    "    #model.compile(loss=qloss, optimizer=\"adam\", metrics=[score])\n",
    "    model.compile(loss=mloss(0.8375), optimizer=tf.keras.optimizers.Adam(lr=0.1, beta_1=0.9, beta_2=0.999, epsilon=None, decay=0.01, amsgrad=False), metrics=[score])\n",
    "    return model"
   ]
  },
  {
   "cell_type": "code",
   "execution_count": 37,
   "metadata": {
    "execution": {
     "iopub.execute_input": "2020-11-09T14:26:55.171126Z",
     "iopub.status.busy": "2020-11-09T14:26:55.169218Z",
     "iopub.status.idle": "2020-11-09T14:26:55.171822Z",
     "shell.execute_reply": "2020-11-09T14:26:55.172285Z"
    },
    "papermill": {
     "duration": 0.958816,
     "end_time": "2020-11-09T14:26:55.172405",
     "exception": false,
     "start_time": "2020-11-09T14:26:54.213589",
     "status": "completed"
    },
    "tags": []
   },
   "outputs": [],
   "source": [
    "from sklearn.metrics import mean_absolute_error\n",
    "from sklearn.model_selection import KFold\n",
    "\n",
    "import tensorflow as tf\n",
    "import tensorflow.keras.backend as K\n",
    "import tensorflow.keras.layers as L\n",
    "import tensorflow.keras.models as M"
   ]
  },
  {
   "cell_type": "code",
   "execution_count": 38,
   "metadata": {
    "execution": {
     "iopub.execute_input": "2020-11-09T14:26:56.997750Z",
     "iopub.status.busy": "2020-11-09T14:26:56.996277Z",
     "iopub.status.idle": "2020-11-09T14:26:56.999717Z",
     "shell.execute_reply": "2020-11-09T14:26:56.999215Z"
    },
    "papermill": {
     "duration": 0.923469,
     "end_time": "2020-11-09T14:26:56.999832",
     "exception": false,
     "start_time": "2020-11-09T14:26:56.076363",
     "status": "completed"
    },
    "tags": []
   },
   "outputs": [],
   "source": [
    "y = tr['FVC'].values\n",
    "z = tr[FE].values\n",
    "ze = sub[FE].values\n",
    "nh = z.shape[1]\n",
    "pe = np.zeros((ze.shape[0], 3))\n",
    "pred = np.zeros((z.shape[0], 3))\n",
    "\n",
    "NFOLD = 5 # originally 5\n",
    "kf = KFold(n_splits=NFOLD)"
   ]
  },
  {
   "cell_type": "code",
   "execution_count": 39,
   "metadata": {
    "execution": {
     "iopub.execute_input": "2020-11-09T14:26:58.821221Z",
     "iopub.status.busy": "2020-11-09T14:26:58.820288Z",
     "iopub.status.idle": "2020-11-09T14:30:42.331735Z",
     "shell.execute_reply": "2020-11-09T14:30:42.332636Z"
    },
    "papermill": {
     "duration": 224.428542,
     "end_time": "2020-11-09T14:30:42.332874",
     "exception": false,
     "start_time": "2020-11-09T14:26:57.904332",
     "status": "completed"
    },
    "tags": []
   },
   "outputs": [
    {
     "name": "stdout",
     "output_type": "stream",
     "text": [
      "FOLD 1\n",
      "train [40.8542366027832, 6.495644569396973]\n",
      "val [49.51698684692383, 6.7195916175842285]\n",
      "predict val...\n",
      "predict test...\n",
      "FOLD 2\n",
      "train [41.12504959106445, 6.501265525817871]\n",
      "val [48.122310638427734, 6.657367706298828]\n",
      "predict val...\n",
      "predict test...\n",
      "FOLD 3\n",
      "train [39.301795959472656, 6.427008152008057]\n",
      "val [56.531986236572266, 6.743476867675781]\n",
      "predict val...\n",
      "predict test...\n",
      "FOLD 4\n",
      "train [42.81867599487305, 6.541779518127441]\n",
      "val [42.97727584838867, 6.537622928619385]\n",
      "predict val...\n",
      "predict test...\n",
      "FOLD 5\n",
      "train [41.341468811035156, 6.485561370849609]\n",
      "val [50.093788146972656, 6.7407050132751465]\n",
      "predict val...\n",
      "predict test...\n",
      "CPU times: user 4min 3s, sys: 13.9 s, total: 4min 17s\n",
      "Wall time: 3min 42s\n"
     ]
    }
   ],
   "source": [
    "%%time\n",
    "cnt = 0\n",
    "EPOCHS = 800\n",
    "for tr_idx, val_idx in kf.split(z):\n",
    "    cnt += 1\n",
    "    print(f\"FOLD {cnt}\")\n",
    "    net = make_model(nh)\n",
    "    net.fit(z[tr_idx], y[tr_idx], batch_size=BATCH_SIZE, epochs=EPOCHS, \n",
    "            validation_data=(z[val_idx], y[val_idx]), verbose=0) #\n",
    "    print(\"train\", net.evaluate(z[tr_idx], y[tr_idx], verbose=0, batch_size=BATCH_SIZE))\n",
    "    print(\"val\", net.evaluate(z[val_idx], y[val_idx], verbose=0, batch_size=BATCH_SIZE))\n",
    "    print(\"predict val...\")\n",
    "    pred[val_idx] = net.predict(z[val_idx], batch_size=BATCH_SIZE, verbose=0)\n",
    "    print(\"predict test...\")\n",
    "    pe += net.predict(ze, batch_size=BATCH_SIZE, verbose=0) / NFOLD"
   ]
  },
  {
   "cell_type": "code",
   "execution_count": 40,
   "metadata": {
    "execution": {
     "iopub.execute_input": "2020-11-09T14:30:44.313857Z",
     "iopub.status.busy": "2020-11-09T14:30:44.312943Z",
     "iopub.status.idle": "2020-11-09T14:30:44.320273Z",
     "shell.execute_reply": "2020-11-09T14:30:44.321079Z"
    },
    "papermill": {
     "duration": 1.025539,
     "end_time": "2020-11-09T14:30:44.321266",
     "exception": false,
     "start_time": "2020-11-09T14:30:43.295727",
     "status": "completed"
    },
    "tags": []
   },
   "outputs": [
    {
     "name": "stdout",
     "output_type": "stream",
     "text": [
      "139.2410971377494 230.44501153902434\n"
     ]
    }
   ],
   "source": [
    "sigma_opt = mean_absolute_error(y, pred[:, 1])\n",
    "unc = pred[:,2] - pred[:, 0]\n",
    "sigma_mean = np.mean(unc)\n",
    "print(sigma_opt, sigma_mean)"
   ]
  },
  {
   "cell_type": "code",
   "execution_count": 41,
   "metadata": {
    "execution": {
     "iopub.execute_input": "2020-11-09T14:30:46.289855Z",
     "iopub.status.busy": "2020-11-09T14:30:46.284539Z",
     "iopub.status.idle": "2020-11-09T14:30:46.478186Z",
     "shell.execute_reply": "2020-11-09T14:30:46.478690Z"
    },
    "papermill": {
     "duration": 1.111255,
     "end_time": "2020-11-09T14:30:46.478834",
     "exception": false,
     "start_time": "2020-11-09T14:30:45.367579",
     "status": "completed"
    },
    "tags": []
   },
   "outputs": [
    {
     "data": {
      "image/png": "[encoded data removed]",
      "text/plain": [
       "<Figure size 432x288 with 1 Axes>"
      ]
     },
     "metadata": {
      "needs_background": "light"
     },
     "output_type": "display_data"
    }
   ],
   "source": [
    "idxs = np.random.randint(0, y.shape[0], 100)\n",
    "plt.plot(y[idxs], label=\"ground truth\")\n",
    "plt.plot(pred[idxs, 0], label=\"q25\")\n",
    "plt.plot(pred[idxs, 1], label=\"q50\")\n",
    "plt.plot(pred[idxs, 2], label=\"q75\")\n",
    "plt.legend(loc=\"best\")\n",
    "plt.show()"
   ]
  },
  {
   "cell_type": "code",
   "execution_count": 42,
   "metadata": {
    "execution": {
     "iopub.execute_input": "2020-11-09T14:30:48.318817Z",
     "iopub.status.busy": "2020-11-09T14:30:48.317634Z",
     "iopub.status.idle": "2020-11-09T14:30:48.334677Z",
     "shell.execute_reply": "2020-11-09T14:30:48.335119Z"
    },
    "papermill": {
     "duration": 0.94444,
     "end_time": "2020-11-09T14:30:48.335260",
     "exception": false,
     "start_time": "2020-11-09T14:30:47.390820",
     "status": "completed"
    },
    "tags": []
   },
   "outputs": [
    {
     "data": {
      "text/html": [
       "<div>\n",
       "<style scoped>\n",
       "    .dataframe tbody tr th:only-of-type {\n",
       "        vertical-align: middle;\n",
       "    }\n",
       "\n",
       "    .dataframe tbody tr th {\n",
       "        vertical-align: top;\n",
       "    }\n",
       "\n",
       "    .dataframe thead th {\n",
       "        text-align: right;\n",
       "    }\n",
       "</style>\n",
       "<table border=\"1\" class=\"dataframe\">\n",
       "  <thead>\n",
       "    <tr style=\"text-align: right;\">\n",
       "      <th></th>\n",
       "      <th>Patient_Week</th>\n",
       "      <th>FVC</th>\n",
       "      <th>Confidence</th>\n",
       "      <th>FVC1</th>\n",
       "      <th>Confidence1</th>\n",
       "    </tr>\n",
       "  </thead>\n",
       "  <tbody>\n",
       "    <tr>\n",
       "      <th>1540</th>\n",
       "      <td>ID00419637202311204720264_-12</td>\n",
       "      <td>3020</td>\n",
       "      <td>100.0</td>\n",
       "      <td>2858.355957</td>\n",
       "      <td>241.746094</td>\n",
       "    </tr>\n",
       "    <tr>\n",
       "      <th>1541</th>\n",
       "      <td>ID00419637202311204720264_-11</td>\n",
       "      <td>3020</td>\n",
       "      <td>100.0</td>\n",
       "      <td>2855.959290</td>\n",
       "      <td>242.948669</td>\n",
       "    </tr>\n",
       "    <tr>\n",
       "      <th>1542</th>\n",
       "      <td>ID00419637202311204720264_-10</td>\n",
       "      <td>3020</td>\n",
       "      <td>100.0</td>\n",
       "      <td>2853.562622</td>\n",
       "      <td>244.151367</td>\n",
       "    </tr>\n",
       "    <tr>\n",
       "      <th>1543</th>\n",
       "      <td>ID00419637202311204720264_-9</td>\n",
       "      <td>3020</td>\n",
       "      <td>100.0</td>\n",
       "      <td>2851.165955</td>\n",
       "      <td>245.354004</td>\n",
       "    </tr>\n",
       "    <tr>\n",
       "      <th>1544</th>\n",
       "      <td>ID00419637202311204720264_-8</td>\n",
       "      <td>3020</td>\n",
       "      <td>100.0</td>\n",
       "      <td>2848.769287</td>\n",
       "      <td>246.556763</td>\n",
       "    </tr>\n",
       "    <tr>\n",
       "      <th>1545</th>\n",
       "      <td>ID00419637202311204720264_-7</td>\n",
       "      <td>3020</td>\n",
       "      <td>100.0</td>\n",
       "      <td>2846.372559</td>\n",
       "      <td>247.759155</td>\n",
       "    </tr>\n",
       "    <tr>\n",
       "      <th>1546</th>\n",
       "      <td>ID00419637202311204720264_-6</td>\n",
       "      <td>3020</td>\n",
       "      <td>100.0</td>\n",
       "      <td>2843.975952</td>\n",
       "      <td>248.962097</td>\n",
       "    </tr>\n",
       "    <tr>\n",
       "      <th>1547</th>\n",
       "      <td>ID00419637202311204720264_-5</td>\n",
       "      <td>3020</td>\n",
       "      <td>100.0</td>\n",
       "      <td>2841.579285</td>\n",
       "      <td>250.164612</td>\n",
       "    </tr>\n",
       "    <tr>\n",
       "      <th>1548</th>\n",
       "      <td>ID00419637202311204720264_-4</td>\n",
       "      <td>3020</td>\n",
       "      <td>100.0</td>\n",
       "      <td>2839.182739</td>\n",
       "      <td>251.367371</td>\n",
       "    </tr>\n",
       "    <tr>\n",
       "      <th>1549</th>\n",
       "      <td>ID00419637202311204720264_-3</td>\n",
       "      <td>3020</td>\n",
       "      <td>100.0</td>\n",
       "      <td>2836.785950</td>\n",
       "      <td>252.570007</td>\n",
       "    </tr>\n",
       "  </tbody>\n",
       "</table>\n",
       "</div>"
      ],
      "text/plain": [
       "                       Patient_Week   FVC  Confidence         FVC1  \\\n",
       "1540  ID00419637202311204720264_-12  3020       100.0  2858.355957   \n",
       "1541  ID00419637202311204720264_-11  3020       100.0  2855.959290   \n",
       "1542  ID00419637202311204720264_-10  3020       100.0  2853.562622   \n",
       "1543   ID00419637202311204720264_-9  3020       100.0  2851.165955   \n",
       "1544   ID00419637202311204720264_-8  3020       100.0  2848.769287   \n",
       "1545   ID00419637202311204720264_-7  3020       100.0  2846.372559   \n",
       "1546   ID00419637202311204720264_-6  3020       100.0  2843.975952   \n",
       "1547   ID00419637202311204720264_-5  3020       100.0  2841.579285   \n",
       "1548   ID00419637202311204720264_-4  3020       100.0  2839.182739   \n",
       "1549   ID00419637202311204720264_-3  3020       100.0  2836.785950   \n",
       "\n",
       "      Confidence1  \n",
       "1540   241.746094  \n",
       "1541   242.948669  \n",
       "1542   244.151367  \n",
       "1543   245.354004  \n",
       "1544   246.556763  \n",
       "1545   247.759155  \n",
       "1546   248.962097  \n",
       "1547   250.164612  \n",
       "1548   251.367371  \n",
       "1549   252.570007  "
      ]
     },
     "execution_count": 42,
     "metadata": {},
     "output_type": "execute_result"
    }
   ],
   "source": [
    "# PREDICTION\n",
    "sub['FVC1'] = 1.*pe[:, 1]\n",
    "sub['Confidence1'] = pe[:, 2] - pe[:, 0]\n",
    "subm = sub[['Patient_Week','FVC','Confidence','FVC1','Confidence1']].copy()\n",
    "subm.loc[~subm.FVC1.isnull()].head(10)"
   ]
  },
  {
   "cell_type": "code",
   "execution_count": 43,
   "metadata": {
    "execution": {
     "iopub.execute_input": "2020-11-09T14:30:50.197045Z",
     "iopub.status.busy": "2020-11-09T14:30:50.193224Z",
     "iopub.status.idle": "2020-11-09T14:30:50.199597Z",
     "shell.execute_reply": "2020-11-09T14:30:50.199102Z"
    },
    "papermill": {
     "duration": 0.930268,
     "end_time": "2020-11-09T14:30:50.199717",
     "exception": false,
     "start_time": "2020-11-09T14:30:49.269449",
     "status": "completed"
    },
    "tags": []
   },
   "outputs": [],
   "source": [
    "subm.loc[~subm.FVC1.isnull(),'FVC'] = subm.loc[~subm.FVC1.isnull(),'FVC1']\n",
    "if sigma_mean<70:\n",
    "    subm['Confidence'] = sigma_opt\n",
    "else:\n",
    "    subm.loc[~subm.FVC1.isnull(),'Confidence'] = subm.loc[~subm.FVC1.isnull(),'Confidence1']"
   ]
  },
  {
   "cell_type": "code",
   "execution_count": 44,
   "metadata": {
    "execution": {
     "iopub.execute_input": "2020-11-09T14:30:52.072017Z",
     "iopub.status.busy": "2020-11-09T14:30:52.071120Z",
     "iopub.status.idle": "2020-11-09T14:30:52.074280Z",
     "shell.execute_reply": "2020-11-09T14:30:52.073780Z"
    },
    "papermill": {
     "duration": 0.963526,
     "end_time": "2020-11-09T14:30:52.074385",
     "exception": false,
     "start_time": "2020-11-09T14:30:51.110859",
     "status": "completed"
    },
    "tags": []
   },
   "outputs": [],
   "source": [
    "otest = pd.read_csv('../input/osic-pulmonary-fibrosis-progression/test.csv')\n",
    "for i in range(len(otest)):\n",
    "    subm.loc[subm['Patient_Week']==otest.Patient[i]+'_'+str(otest.Weeks[i]), 'FVC'] = otest.FVC[i]\n",
    "    subm.loc[subm['Patient_Week']==otest.Patient[i]+'_'+str(otest.Weeks[i]), 'Confidence'] = 0.1"
   ]
  },
  {
   "cell_type": "code",
   "execution_count": 45,
   "metadata": {
    "execution": {
     "iopub.execute_input": "2020-11-09T14:30:54.188472Z",
     "iopub.status.busy": "2020-11-09T14:30:54.187645Z",
     "iopub.status.idle": "2020-11-09T14:30:54.191412Z",
     "shell.execute_reply": "2020-11-09T14:30:54.192026Z"
    },
    "papermill": {
     "duration": 1.203337,
     "end_time": "2020-11-09T14:30:54.192198",
     "exception": false,
     "start_time": "2020-11-09T14:30:52.988861",
     "status": "completed"
    },
    "tags": []
   },
   "outputs": [],
   "source": [
    "reg_sub = subm[[\"Patient_Week\",\"FVC\",\"Confidence\"]].copy()"
   ]
  },
  {
   "cell_type": "code",
   "execution_count": 46,
   "metadata": {
    "execution": {
     "iopub.execute_input": "2020-11-09T14:30:56.467779Z",
     "iopub.status.busy": "2020-11-09T14:30:56.466193Z",
     "iopub.status.idle": "2020-11-09T14:30:56.470990Z",
     "shell.execute_reply": "2020-11-09T14:30:56.470360Z"
    },
    "papermill": {
     "duration": 1.089129,
     "end_time": "2020-11-09T14:30:56.471106",
     "exception": false,
     "start_time": "2020-11-09T14:30:55.381977",
     "status": "completed"
    },
    "tags": []
   },
   "outputs": [],
   "source": [
    "df1 = img_sub.sort_values(by=['Patient_Week'], ascending=True).reset_index(drop=True)\n",
    "df2 = reg_sub.sort_values(by=['Patient_Week'], ascending=True).reset_index(drop=True)"
   ]
  },
  {
   "cell_type": "code",
   "execution_count": 47,
   "metadata": {
    "execution": {
     "iopub.execute_input": "2020-11-09T14:30:58.360932Z",
     "iopub.status.busy": "2020-11-09T14:30:58.360003Z",
     "iopub.status.idle": "2020-11-09T14:30:58.372197Z",
     "shell.execute_reply": "2020-11-09T14:30:58.371691Z"
    },
    "papermill": {
     "duration": 0.958093,
     "end_time": "2020-11-09T14:30:58.372303",
     "exception": false,
     "start_time": "2020-11-09T14:30:57.414210",
     "status": "completed"
    },
    "tags": []
   },
   "outputs": [
    {
     "data": {
      "text/html": [
       "<div>\n",
       "<style scoped>\n",
       "    .dataframe tbody tr th:only-of-type {\n",
       "        vertical-align: middle;\n",
       "    }\n",
       "\n",
       "    .dataframe tbody tr th {\n",
       "        vertical-align: top;\n",
       "    }\n",
       "\n",
       "    .dataframe thead th {\n",
       "        text-align: right;\n",
       "    }\n",
       "</style>\n",
       "<table border=\"1\" class=\"dataframe\">\n",
       "  <thead>\n",
       "    <tr style=\"text-align: right;\">\n",
       "      <th></th>\n",
       "      <th>Patient_Week</th>\n",
       "      <th>FVC</th>\n",
       "      <th>Confidence</th>\n",
       "    </tr>\n",
       "  </thead>\n",
       "  <tbody>\n",
       "    <tr>\n",
       "      <th>0</th>\n",
       "      <td>ID00419637202311204720264_-1</td>\n",
       "      <td>2894.426851</td>\n",
       "      <td>208.440937</td>\n",
       "    </tr>\n",
       "    <tr>\n",
       "      <th>1</th>\n",
       "      <td>ID00419637202311204720264_-10</td>\n",
       "      <td>2930.531264</td>\n",
       "      <td>200.421424</td>\n",
       "    </tr>\n",
       "    <tr>\n",
       "      <th>2</th>\n",
       "      <td>ID00419637202311204720264_-11</td>\n",
       "      <td>2934.592918</td>\n",
       "      <td>199.520083</td>\n",
       "    </tr>\n",
       "    <tr>\n",
       "      <th>3</th>\n",
       "      <td>ID00419637202311204720264_-12</td>\n",
       "      <td>2938.661059</td>\n",
       "      <td>198.618831</td>\n",
       "    </tr>\n",
       "    <tr>\n",
       "      <th>4</th>\n",
       "      <td>ID00419637202311204720264_-2</td>\n",
       "      <td>2898.327044</td>\n",
       "      <td>207.598848</td>\n",
       "    </tr>\n",
       "  </tbody>\n",
       "</table>\n",
       "</div>"
      ],
      "text/plain": [
       "                    Patient_Week          FVC  Confidence\n",
       "0   ID00419637202311204720264_-1  2894.426851  208.440937\n",
       "1  ID00419637202311204720264_-10  2930.531264  200.421424\n",
       "2  ID00419637202311204720264_-11  2934.592918  199.520083\n",
       "3  ID00419637202311204720264_-12  2938.661059  198.618831\n",
       "4   ID00419637202311204720264_-2  2898.327044  207.598848"
      ]
     },
     "execution_count": 47,
     "metadata": {},
     "output_type": "execute_result"
    }
   ],
   "source": [
    "df = df1[['Patient_Week']].copy()\n",
    "df['FVC'] = 0.25*df1['FVC'] + 0.75*df2['FVC']\n",
    "df['Confidence'] = 0.25*df1['Confidence'] + 0.75*df2['Confidence']\n",
    "df.head()"
   ]
  },
  {
   "cell_type": "code",
   "execution_count": 48,
   "metadata": {
    "execution": {
     "iopub.execute_input": "2020-11-09T14:31:00.265835Z",
     "iopub.status.busy": "2020-11-09T14:31:00.264565Z",
     "iopub.status.idle": "2020-11-09T14:31:00.422938Z",
     "shell.execute_reply": "2020-11-09T14:31:00.423562Z"
    },
    "papermill": {
     "duration": 1.093695,
     "end_time": "2020-11-09T14:31:00.423709",
     "exception": false,
     "start_time": "2020-11-09T14:30:59.330014",
     "status": "completed"
    },
    "tags": []
   },
   "outputs": [
    {
     "data": {
      "text/plain": [
       "<matplotlib.axes._subplots.AxesSubplot at 0x7f263f2755d0>"
      ]
     },
     "execution_count": 48,
     "metadata": {},
     "output_type": "execute_result"
    },
    {
     "data": {
      "image/png": "[encoded data removed]",
      "text/plain": [
       "<Figure size 432x288 with 1 Axes>"
      ]
     },
     "metadata": {
      "needs_background": "light"
     },
     "output_type": "display_data"
    }
   ],
   "source": [
    "df['Confidence'].hist()"
   ]
  },
  {
   "cell_type": "code",
   "execution_count": 49,
   "metadata": {
    "execution": {
     "iopub.execute_input": "2020-11-09T14:31:02.274928Z",
     "iopub.status.busy": "2020-11-09T14:31:02.273964Z",
     "iopub.status.idle": "2020-11-09T14:31:02.436169Z",
     "shell.execute_reply": "2020-11-09T14:31:02.436721Z"
    },
    "papermill": {
     "duration": 1.096761,
     "end_time": "2020-11-09T14:31:02.436856",
     "exception": false,
     "start_time": "2020-11-09T14:31:01.340095",
     "status": "completed"
    },
    "tags": []
   },
   "outputs": [
    {
     "data": {
      "text/plain": [
       "<matplotlib.axes._subplots.AxesSubplot at 0x7f263df80050>"
      ]
     },
     "execution_count": 49,
     "metadata": {},
     "output_type": "execute_result"
    },
    {
     "data": {
      "image/png": "[encoded data removed]",
      "text/plain": [
       "<Figure size 432x288 with 1 Axes>"
      ]
     },
     "metadata": {
      "needs_background": "light"
     },
     "output_type": "display_data"
    }
   ],
   "source": [
    "df['FVC'].hist()"
   ]
  },
  {
   "cell_type": "code",
   "execution_count": 50,
   "metadata": {
    "execution": {
     "iopub.execute_input": "2020-11-09T14:31:04.293437Z",
     "iopub.status.busy": "2020-11-09T14:31:04.292192Z",
     "iopub.status.idle": "2020-11-09T14:31:04.301258Z",
     "shell.execute_reply": "2020-11-09T14:31:04.300634Z"
    },
    "papermill": {
     "duration": 0.937464,
     "end_time": "2020-11-09T14:31:04.301361",
     "exception": false,
     "start_time": "2020-11-09T14:31:03.363897",
     "status": "completed"
    },
    "tags": []
   },
   "outputs": [],
   "source": [
    "df.to_csv('submission.csv', index=False)"
   ]
  }
 ],
 "metadata": {
  "kernelspec": {
   "display_name": "Python 3",
   "language": "python",
   "name": "python3"
  },
  "language_info": {
   "codemirror_mode": {
    "name": "ipython",
    "version": 3
   },
   "file_extension": ".py",
   "mimetype": "text/x-python",
   "name": "python",
   "nbconvert_exporter": "python",
   "pygments_lexer": "ipython3",
   "version": "3.7.6"
  },
  "papermill": {
   "duration": 1823.432858,
   "end_time": "2020-11-09T14:31:06.318064",
   "environment_variables": {},
   "exception": null,
   "input_path": "__notebook__.ipynb",
   "output_path": "__notebook__.ipynb",
   "parameters": {},
   "start_time": "2020-11-09T14:00:42.885206",
   "version": "2.1.0"
  },
  "widgets": {
   "application/vnd.jupyter.widget-state+json": {
    "state": {
     "1f6352fb24d14e4db8d8989fadbd6d8e": {
      "model_module": "@jupyter-widgets/base",
      "model_module_version": "1.2.0",
      "model_name": "LayoutModel",
      "state": {
       "_model_module": "@jupyter-widgets/base",
       "_model_module_version": "1.2.0",
       "_model_name": "LayoutModel",
       "_view_count": null,
       "_view_module": "@jupyter-widgets/base",
       "_view_module_version": "1.2.0",
       "_view_name": "LayoutView",
       "align_content": null,
       "align_items": null,
       "align_self": null,
       "border": null,
       "bottom": null,
       "display": null,
       "flex": null,
       "flex_flow": null,
       "grid_area": null,
       "grid_auto_columns": null,
       "grid_auto_flow": null,
       "grid_auto_rows": null,
       "grid_column": null,
       "grid_gap": null,
       "grid_row": null,
       "grid_template_areas": null,
       "grid_template_columns": null,
       "grid_template_rows": null,
       "height": null,
       "justify_content": null,
       "justify_items": null,
       "left": null,
       "margin": null,
       "max_height": null,
       "max_width": null,
       "min_height": null,
       "min_width": null,
       "object_fit": null,
       "object_position": null,
       "order": null,
       "overflow": null,
       "overflow_x": null,
       "overflow_y": null,
       "padding": null,
       "right": null,
       "top": null,
       "visibility": null,
       "width": null
      }
     },
     "2cd2e0daeb724e05adbf7122f9264f00": {
      "model_module": "@jupyter-widgets/controls",
      "model_module_version": "1.5.0",
      "model_name": "DescriptionStyleModel",
      "state": {
       "_model_module": "@jupyter-widgets/controls",
       "_model_module_version": "1.5.0",
       "_model_name": "DescriptionStyleModel",
       "_view_count": null,
       "_view_module": "@jupyter-widgets/base",
       "_view_module_version": "1.2.0",
       "_view_name": "StyleView",
       "description_width": ""
      }
     },
     "2f1222f4bbc74d2b8565682444fa7831": {
      "model_module": "@jupyter-widgets/controls",
      "model_module_version": "1.5.0",
      "model_name": "HBoxModel",
      "state": {
       "_dom_classes": [],
       "_model_module": "@jupyter-widgets/controls",
       "_model_module_version": "1.5.0",
       "_model_name": "HBoxModel",
       "_view_count": null,
       "_view_module": "@jupyter-widgets/controls",
       "_view_module_version": "1.5.0",
       "_view_name": "HBoxView",
       "box_style": "",
       "children": [
        "IPY_MODEL_fd7bb91f563c4b7b93c91fb1ab38a4a5",
        "IPY_MODEL_8759d4ed465e4f5fafcbb1ea4247ac8c"
       ],
       "layout": "IPY_MODEL_aed713ce60e04095b4dac76ca07b38a0"
      }
     },
     "37c422b229db469eaf159a9e09912682": {
      "model_module": "@jupyter-widgets/base",
      "model_module_version": "1.2.0",
      "model_name": "LayoutModel",
      "state": {
       "_model_module": "@jupyter-widgets/base",
       "_model_module_version": "1.2.0",
       "_model_name": "LayoutModel",
       "_view_count": null,
       "_view_module": "@jupyter-widgets/base",
       "_view_module_version": "1.2.0",
       "_view_name": "LayoutView",
       "align_content": null,
       "align_items": null,
       "align_self": null,
       "border": null,
       "bottom": null,
       "display": null,
       "flex": null,
       "flex_flow": null,
       "grid_area": null,
       "grid_auto_columns": null,
       "grid_auto_flow": null,
       "grid_auto_rows": null,
       "grid_column": null,
       "grid_gap": null,
       "grid_row": null,
       "grid_template_areas": null,
       "grid_template_columns": null,
       "grid_template_rows": null,
       "height": null,
       "justify_content": null,
       "justify_items": null,
       "left": null,
       "margin": null,
       "max_height": null,
       "max_width": null,
       "min_height": null,
       "min_width": null,
       "object_fit": null,
       "object_position": null,
       "order": null,
       "overflow": null,
       "overflow_x": null,
       "overflow_y": null,
       "padding": null,
       "right": null,
       "top": null,
       "visibility": null,
       "width": null
      }
     },
     "45e164cd64694b6aad6020c5c4e56eed": {
      "model_module": "@jupyter-widgets/controls",
      "model_module_version": "1.5.0",
      "model_name": "HTMLModel",
      "state": {
       "_dom_classes": [],
       "_model_module": "@jupyter-widgets/controls",
       "_model_module_version": "1.5.0",
       "_model_name": "HTMLModel",
       "_view_count": null,
       "_view_module": "@jupyter-widgets/controls",
       "_view_module_version": "1.5.0",
       "_view_name": "HTMLView",
       "description": "",
       "description_tooltip": null,
       "layout": "IPY_MODEL_37c422b229db469eaf159a9e09912682",
       "placeholder": "​",
       "style": "IPY_MODEL_dc37c99e81e74f698b2ded9480ac8f93",
       "value": " 9/9 [05:29&lt;00:00, 36.57s/it]"
      }
     },
     "46b564551b3a4d23950211a029d6433c": {
      "model_module": "@jupyter-widgets/base",
      "model_module_version": "1.2.0",
      "model_name": "LayoutModel",
      "state": {
       "_model_module": "@jupyter-widgets/base",
       "_model_module_version": "1.2.0",
       "_model_name": "LayoutModel",
       "_view_count": null,
       "_view_module": "@jupyter-widgets/base",
       "_view_module_version": "1.2.0",
       "_view_name": "LayoutView",
       "align_content": null,
       "align_items": null,
       "align_self": null,
       "border": null,
       "bottom": null,
       "display": null,
       "flex": null,
       "flex_flow": null,
       "grid_area": null,
       "grid_auto_columns": null,
       "grid_auto_flow": null,
       "grid_auto_rows": null,
       "grid_column": null,
       "grid_gap": null,
       "grid_row": null,
       "grid_template_areas": null,
       "grid_template_columns": null,
       "grid_template_rows": null,
       "height": null,
       "justify_content": null,
       "justify_items": null,
       "left": null,
       "margin": null,
       "max_height": null,
       "max_width": null,
       "min_height": null,
       "min_width": null,
       "object_fit": null,
       "object_position": null,
       "order": null,
       "overflow": null,
       "overflow_x": null,
       "overflow_y": null,
       "padding": null,
       "right": null,
       "top": null,
       "visibility": null,
       "width": null
      }
     },
     "6f92e27836a447fdb5f68e695fb912fd": {
      "model_module": "@jupyter-widgets/controls",
      "model_module_version": "1.5.0",
      "model_name": "HBoxModel",
      "state": {
       "_dom_classes": [],
       "_model_module": "@jupyter-widgets/controls",
       "_model_module_version": "1.5.0",
       "_model_name": "HBoxModel",
       "_view_count": null,
       "_view_module": "@jupyter-widgets/controls",
       "_view_module_version": "1.5.0",
       "_view_name": "HBoxView",
       "box_style": "",
       "children": [
        "IPY_MODEL_81f779b856aa49a79e0a2a504465c7c0",
        "IPY_MODEL_45e164cd64694b6aad6020c5c4e56eed"
       ],
       "layout": "IPY_MODEL_46b564551b3a4d23950211a029d6433c"
      }
     },
     "7f913d31351d4082b11dbeb31ac27b15": {
      "model_module": "@jupyter-widgets/controls",
      "model_module_version": "1.5.0",
      "model_name": "ProgressStyleModel",
      "state": {
       "_model_module": "@jupyter-widgets/controls",
       "_model_module_version": "1.5.0",
       "_model_name": "ProgressStyleModel",
       "_view_count": null,
       "_view_module": "@jupyter-widgets/base",
       "_view_module_version": "1.2.0",
       "_view_name": "StyleView",
       "bar_color": null,
       "description_width": "initial"
      }
     },
     "81f779b856aa49a79e0a2a504465c7c0": {
      "model_module": "@jupyter-widgets/controls",
      "model_module_version": "1.5.0",
      "model_name": "FloatProgressModel",
      "state": {
       "_dom_classes": [],
       "_model_module": "@jupyter-widgets/controls",
       "_model_module_version": "1.5.0",
       "_model_name": "FloatProgressModel",
       "_view_count": null,
       "_view_module": "@jupyter-widgets/controls",
       "_view_module_version": "1.5.0",
       "_view_name": "ProgressView",
       "bar_style": "success",
       "description": "100%",
       "description_tooltip": null,
       "layout": "IPY_MODEL_81fa8bd08eca4c079166b47b3cebc19d",
       "max": 9.0,
       "min": 0.0,
       "orientation": "horizontal",
       "style": "IPY_MODEL_df91e1ea79914d92924b7eff9974b791",
       "value": 9.0
      }
     },
     "81fa8bd08eca4c079166b47b3cebc19d": {
      "model_module": "@jupyter-widgets/base",
      "model_module_version": "1.2.0",
      "model_name": "LayoutModel",
      "state": {
       "_model_module": "@jupyter-widgets/base",
       "_model_module_version": "1.2.0",
       "_model_name": "LayoutModel",
       "_view_count": null,
       "_view_module": "@jupyter-widgets/base",
       "_view_module_version": "1.2.0",
       "_view_name": "LayoutView",
       "align_content": null,
       "align_items": null,
       "align_self": null,
       "border": null,
       "bottom": null,
       "display": null,
       "flex": null,
       "flex_flow": null,
       "grid_area": null,
       "grid_auto_columns": null,
       "grid_auto_flow": null,
       "grid_auto_rows": null,
       "grid_column": null,
       "grid_gap": null,
       "grid_row": null,
       "grid_template_areas": null,
       "grid_template_columns": null,
       "grid_template_rows": null,
       "height": null,
       "justify_content": null,
       "justify_items": null,
       "left": null,
       "margin": null,
       "max_height": null,
       "max_width": null,
       "min_height": null,
       "min_width": null,
       "object_fit": null,
       "object_position": null,
       "order": null,
       "overflow": null,
       "overflow_x": null,
       "overflow_y": null,
       "padding": null,
       "right": null,
       "top": null,
       "visibility": null,
       "width": null
      }
     },
     "8759d4ed465e4f5fafcbb1ea4247ac8c": {
      "model_module": "@jupyter-widgets/controls",
      "model_module_version": "1.5.0",
      "model_name": "HTMLModel",
      "state": {
       "_dom_classes": [],
       "_model_module": "@jupyter-widgets/controls",
       "_model_module_version": "1.5.0",
       "_model_name": "HTMLModel",
       "_view_count": null,
       "_view_module": "@jupyter-widgets/controls",
       "_view_module_version": "1.5.0",
       "_view_name": "HTMLView",
       "description": "",
       "description_tooltip": null,
       "layout": "IPY_MODEL_1f6352fb24d14e4db8d8989fadbd6d8e",
       "placeholder": "​",
       "style": "IPY_MODEL_2cd2e0daeb724e05adbf7122f9264f00",
       "value": " 176/? [00:07&lt;00:00, 23.74it/s]"
      }
     },
     "8f97844c087b4220b0c4db7e2a2d2ce9": {
      "model_module": "@jupyter-widgets/base",
      "model_module_version": "1.2.0",
      "model_name": "LayoutModel",
      "state": {
       "_model_module": "@jupyter-widgets/base",
       "_model_module_version": "1.2.0",
       "_model_name": "LayoutModel",
       "_view_count": null,
       "_view_module": "@jupyter-widgets/base",
       "_view_module_version": "1.2.0",
       "_view_name": "LayoutView",
       "align_content": null,
       "align_items": null,
       "align_self": null,
       "border": null,
       "bottom": null,
       "display": null,
       "flex": null,
       "flex_flow": null,
       "grid_area": null,
       "grid_auto_columns": null,
       "grid_auto_flow": null,
       "grid_auto_rows": null,
       "grid_column": null,
       "grid_gap": null,
       "grid_row": null,
       "grid_template_areas": null,
       "grid_template_columns": null,
       "grid_template_rows": null,
       "height": null,
       "justify_content": null,
       "justify_items": null,
       "left": null,
       "margin": null,
       "max_height": null,
       "max_width": null,
       "min_height": null,
       "min_width": null,
       "object_fit": null,
       "object_position": null,
       "order": null,
       "overflow": null,
       "overflow_x": null,
       "overflow_y": null,
       "padding": null,
       "right": null,
       "top": null,
       "visibility": null,
       "width": null
      }
     },
     "aed713ce60e04095b4dac76ca07b38a0": {
      "model_module": "@jupyter-widgets/base",
      "model_module_version": "1.2.0",
      "model_name": "LayoutModel",
      "state": {
       "_model_module": "@jupyter-widgets/base",
       "_model_module_version": "1.2.0",
       "_model_name": "LayoutModel",
       "_view_count": null,
       "_view_module": "@jupyter-widgets/base",
       "_view_module_version": "1.2.0",
       "_view_name": "LayoutView",
       "align_content": null,
       "align_items": null,
       "align_self": null,
       "border": null,
       "bottom": null,
       "display": null,
       "flex": null,
       "flex_flow": null,
       "grid_area": null,
       "grid_auto_columns": null,
       "grid_auto_flow": null,
       "grid_auto_rows": null,
       "grid_column": null,
       "grid_gap": null,
       "grid_row": null,
       "grid_template_areas": null,
       "grid_template_columns": null,
       "grid_template_rows": null,
       "height": null,
       "justify_content": null,
       "justify_items": null,
       "left": null,
       "margin": null,
       "max_height": null,
       "max_width": null,
       "min_height": null,
       "min_width": null,
       "object_fit": null,
       "object_position": null,
       "order": null,
       "overflow": null,
       "overflow_x": null,
       "overflow_y": null,
       "padding": null,
       "right": null,
       "top": null,
       "visibility": null,
       "width": null
      }
     },
     "dc37c99e81e74f698b2ded9480ac8f93": {
      "model_module": "@jupyter-widgets/controls",
      "model_module_version": "1.5.0",
      "model_name": "DescriptionStyleModel",
      "state": {
       "_model_module": "@jupyter-widgets/controls",
       "_model_module_version": "1.5.0",
       "_model_name": "DescriptionStyleModel",
       "_view_count": null,
       "_view_module": "@jupyter-widgets/base",
       "_view_module_version": "1.2.0",
       "_view_name": "StyleView",
       "description_width": ""
      }
     },
     "df91e1ea79914d92924b7eff9974b791": {
      "model_module": "@jupyter-widgets/controls",
      "model_module_version": "1.5.0",
      "model_name": "ProgressStyleModel",
      "state": {
       "_model_module": "@jupyter-widgets/controls",
       "_model_module_version": "1.5.0",
       "_model_name": "ProgressStyleModel",
       "_view_count": null,
       "_view_module": "@jupyter-widgets/base",
       "_view_module_version": "1.2.0",
       "_view_name": "StyleView",
       "bar_color": null,
       "description_width": "initial"
      }
     },
     "fd7bb91f563c4b7b93c91fb1ab38a4a5": {
      "model_module": "@jupyter-widgets/controls",
      "model_module_version": "1.5.0",
      "model_name": "FloatProgressModel",
      "state": {
       "_dom_classes": [],
       "_model_module": "@jupyter-widgets/controls",
       "_model_module_version": "1.5.0",
       "_model_name": "FloatProgressModel",
       "_view_count": null,
       "_view_module": "@jupyter-widgets/controls",
       "_view_module_version": "1.5.0",
       "_view_name": "ProgressView",
       "bar_style": "success",
       "description": "",
       "description_tooltip": null,
       "layout": "IPY_MODEL_8f97844c087b4220b0c4db7e2a2d2ce9",
       "max": 1.0,
       "min": 0.0,
       "orientation": "horizontal",
       "style": "IPY_MODEL_7f913d31351d4082b11dbeb31ac27b15",
       "value": 1.0
      }
     }
    },
    "version_major": 2,
    "version_minor": 0
   }
  }
 },
 "nbformat": 4,
 "nbformat_minor": 4
}
